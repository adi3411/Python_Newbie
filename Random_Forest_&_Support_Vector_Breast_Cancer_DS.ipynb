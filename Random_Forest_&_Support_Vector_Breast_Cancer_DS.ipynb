{
  "nbformat": 4,
  "nbformat_minor": 0,
  "metadata": {
    "colab": {
      "provenance": []
    },
    "kernelspec": {
      "name": "python3",
      "display_name": "Python 3"
    },
    "language_info": {
      "name": "python"
    }
  },
  "cells": [
    {
      "cell_type": "markdown",
      "source": [
        "# 1. Data exploration and Preparation"
      ],
      "metadata": {
        "id": "3E5W6AYpW8QB"
      }
    },
    {
      "cell_type": "code",
      "execution_count": null,
      "metadata": {
        "id": "fnouMVV-WM_E"
      },
      "outputs": [],
      "source": [
        "from pandas import read_csv, get_dummies, Series, DataFrame\n",
        "from sklearn.preprocessing import StandardScaler\n",
        "from sklearn.model_selection import train_test_split\n",
        "from imblearn.over_sampling import SMOTE\n",
        "\n",
        "from sklearn import metrics\n",
        "from sklearn import ensemble\n",
        "\n",
        "from sklearn.ensemble import RandomForestClassifier\n",
        "from imblearn.pipeline import Pipeline    #method 3\n",
        "\n",
        "from sklearn.svm import SVC\n",
        "from sklearn.model_selection import GridSearchCV   #method 3"
      ]
    },
    {
      "cell_type": "code",
      "source": [
        "#Reading the Dataset\n",
        "data = read_csv('/content/drive/MyDrive/ML_Stats/Breast_Cancer.csv')\n",
        "\n",
        "data.info()"
      ],
      "metadata": {
        "colab": {
          "base_uri": "https://localhost:8080/"
        },
        "collapsed": true,
        "id": "DdnVsdK2XBiG",
        "outputId": "176a62c4-08e4-4bbb-9453-0753592a04b8"
      },
      "execution_count": null,
      "outputs": [
        {
          "output_type": "stream",
          "name": "stdout",
          "text": [
            "<class 'pandas.core.frame.DataFrame'>\n",
            "RangeIndex: 4024 entries, 0 to 4023\n",
            "Data columns (total 16 columns):\n",
            " #   Column                  Non-Null Count  Dtype \n",
            "---  ------                  --------------  ----- \n",
            " 0   Age                     4024 non-null   int64 \n",
            " 1   Race                    4024 non-null   object\n",
            " 2   Marital Status          4024 non-null   object\n",
            " 3   T Stage                 4024 non-null   object\n",
            " 4   N Stage                 4024 non-null   object\n",
            " 5   6th Stage               4024 non-null   object\n",
            " 6   differentiate           4024 non-null   object\n",
            " 7   Grade                   4024 non-null   object\n",
            " 8   A Stage                 4024 non-null   object\n",
            " 9   Tumor Size              4024 non-null   int64 \n",
            " 10  Estrogen Status         4024 non-null   object\n",
            " 11  Progesterone Status     4024 non-null   object\n",
            " 12  Regional Node Examined  4024 non-null   int64 \n",
            " 13  Reginol Node Positive   4024 non-null   int64 \n",
            " 14  Survival Months         4024 non-null   int64 \n",
            " 15  Status                  4024 non-null   object\n",
            "dtypes: int64(5), object(11)\n",
            "memory usage: 503.1+ KB\n"
          ]
        }
      ]
    },
    {
      "cell_type": "code",
      "source": [
        "#Encoding\n",
        "# a. Binary Encoding\n",
        "data['A Stage'] = data['A Stage'].map({'Regional':1, 'Distant':0})\n",
        "data['Estrogen Status'] = data['Estrogen Status'].map({'Positive':1, 'Negative':0})\n",
        "data['Progesterone Status'] = data['Progesterone Status'].map({'Positive':1, 'Negative':0})\n",
        "data['Status'] = data['Status'].map({'Alive':1, 'Dead':0})\n",
        "\n",
        "# b. One-hot encoding - Dimentionality reduction\n",
        "#to avoid overfitting - Curse of Dimentionality\n",
        "data['T Stage '] = data['T Stage '].map({'T1':1,'T2':2,'T3':3,'T4':4})\n",
        "data['N Stage'] = data['N Stage'].map({'N1':1,'N2':2,'N3':3})\n",
        "data['6th Stage'] = data['6th Stage'].map({'IIA':1,'IIIA':2,'IIB':3,'IIIB':4,'IIIC':5})\n",
        "data['differentiate'] = data['differentiate'].map({'Undifferentiated':1,'Poorly differentiated':2,'Moderately differentiated':3,'Well differentiated':4})\n",
        "data['Grade'] = data['Grade'].map({'1':1,'2':2,'3':3,' anaplastic; Grade IV':4})\n",
        "data.info()\n",
        "\n",
        "#get dummies\n",
        "#data2 = get_dummies(data, columns = ['Race', 'Marital Status', 'T Stage ', 'N Stage', '6th Stage', 'differentiate', 'Grade'])\n",
        "data2 = get_dummies(data, columns = ['Race', 'Marital Status'], dtype=int)\n",
        "data2.info()"
      ],
      "metadata": {
        "colab": {
          "base_uri": "https://localhost:8080/"
        },
        "collapsed": true,
        "id": "egZfXEvCaqrx",
        "outputId": "b43dc283-cc4c-4cc8-f300-b0a1d8fcb5ef"
      },
      "execution_count": null,
      "outputs": [
        {
          "output_type": "stream",
          "name": "stdout",
          "text": [
            "<class 'pandas.core.frame.DataFrame'>\n",
            "RangeIndex: 4024 entries, 0 to 4023\n",
            "Data columns (total 22 columns):\n",
            " #   Column                    Non-Null Count  Dtype\n",
            "---  ------                    --------------  -----\n",
            " 0   Age                       4024 non-null   int64\n",
            " 1   T Stage                   4024 non-null   int64\n",
            " 2   N Stage                   4024 non-null   int64\n",
            " 3   6th Stage                 4024 non-null   int64\n",
            " 4   differentiate             4024 non-null   int64\n",
            " 5   Grade                     4024 non-null   int64\n",
            " 6   A Stage                   4024 non-null   int64\n",
            " 7   Tumor Size                4024 non-null   int64\n",
            " 8   Estrogen Status           4024 non-null   int64\n",
            " 9   Progesterone Status       4024 non-null   int64\n",
            " 10  Regional Node Examined    4024 non-null   int64\n",
            " 11  Reginol Node Positive     4024 non-null   int64\n",
            " 12  Survival Months           4024 non-null   int64\n",
            " 13  Status                    4024 non-null   int64\n",
            " 14  Race_Black                4024 non-null   bool \n",
            " 15  Race_Other                4024 non-null   bool \n",
            " 16  Race_White                4024 non-null   bool \n",
            " 17  Marital Status_Divorced   4024 non-null   bool \n",
            " 18  Marital Status_Married    4024 non-null   bool \n",
            " 19  Marital Status_Separated  4024 non-null   bool \n",
            " 20  Marital Status_Single     4024 non-null   bool \n",
            " 21  Marital Status_Widowed    4024 non-null   bool \n",
            "dtypes: bool(8), int64(14)\n",
            "memory usage: 471.7 KB\n"
          ]
        }
      ]
    },
    {
      "cell_type": "code",
      "source": [
        "#X & Y - dropping the output\n",
        "X = data2.drop('Status', axis = 1)\n",
        "Y = data2['Status']\n",
        "\n",
        "#Scaling\n",
        "X_scaled = StandardScaler().fit_transform(X)\n",
        "\n",
        "#Spliting data\n",
        "X_train, X_test, Y_train, Y_test = train_test_split(X_scaled, Y, test_size=0.3, random_state=100)\n",
        "\n",
        "#balancing the data - SMOTE\n",
        "X_train, Y_train = SMOTE (random_state = 100).fit_resample(X_train,Y_train)\n"
      ],
      "metadata": {
        "id": "F2ha7Y7QeZlN"
      },
      "execution_count": null,
      "outputs": []
    },
    {
      "cell_type": "markdown",
      "source": [
        "# 2. Random Forest Classifier"
      ],
      "metadata": {
        "id": "HtbBMPvpIZj8"
      }
    },
    {
      "cell_type": "code",
      "source": [
        "# Random Forest Classifier (method 2) - to get the best value for Hpyprparameter - n_estimators\n",
        "RF_classifier2 = RandomForestClassifier(criterion='entropy', max_features='sqrt', random_state=1)  #building model/classifier\n",
        "no_trees = {'n_estimators': [50, 100, 200, 250, 300, 350, 400, 450]}\n",
        "RF_grid_search = GridSearchCV(estimator=RF_classifier2, param_grid=no_trees, scoring='recall', cv=5)\n",
        "RF_grid_search.fit(X_scaled, Y)   #training, testing, evaluating & ranking\n",
        "\n",
        "RF_best_parameters = RF_grid_search.best_params_\n",
        "print(RF_best_parameters)\n",
        "RF_best_result = RF_grid_search.best_score_\n",
        "print(RF_best_result)"
      ],
      "metadata": {
        "colab": {
          "base_uri": "https://localhost:8080/"
        },
        "id": "N8dD0Q8hIhRa",
        "outputId": "80f813b0-a8b7-40cc-ac26-bfc702103149"
      },
      "execution_count": null,
      "outputs": [
        {
          "output_type": "stream",
          "name": "stdout",
          "text": [
            "{'n_estimators': 400}\n",
            "0.9806352569319744\n"
          ]
        }
      ]
    },
    {
      "cell_type": "code",
      "source": [
        "#n_etimators found - go ahead with Method 1\n",
        "RF_classifier = RandomForestClassifier(n_estimators=400, criterion='entropy', max_features='sqrt', random_state=1)  #building model/classifier\n",
        "RF_classifier.fit(X_train, Y_train)        #training\n",
        "Y_pred_RF = RF_classifier.predict(X_test)  #testing\n",
        "\n",
        "#evaluation  &  confusion matrix\n",
        "RF_Accuracy = metrics.accuracy_score(Y_test, Y_pred_RF)\n",
        "print('Accuracy of Random Forest is :', round(RF_Accuracy,4))\n",
        "\n",
        "RF_conf_matrix = metrics.confusion_matrix(Y_test, Y_pred_RF)\n",
        "print(\"Confusion MAtrix of Random Forest is :\")\n",
        "print(RF_conf_matrix)\n",
        "\n",
        "RF_recall = metrics.recall_score(Y_test, Y_pred_RF)\n",
        "print('Recall value for Random Forest is :', round(RF_recall,4))\n",
        "\n",
        "RF_precision = metrics.precision_score(Y_test, Y_pred_RF)\n",
        "print('Precisoin value for Random Forest is :', round(RF_precision,4))\n",
        "\n",
        "RF_f1 = metrics.f1_score(Y_test, Y_pred_RF)\n",
        "print('f1 score of Random forest is :', round(RF_f1,4))\n",
        "\n",
        "#important features\n",
        "RF_imp_features = Series(RF_classifier.feature_importances_, index=list(X)).sort_values(ascending=False)\n",
        "print('')\n",
        "print(RF_imp_features)\n"
      ],
      "metadata": {
        "colab": {
          "base_uri": "https://localhost:8080/"
        },
        "id": "G8TDWvZOLpDr",
        "outputId": "a568a3f4-87ab-408f-86fc-15cbffdc96bf"
      },
      "execution_count": null,
      "outputs": [
        {
          "output_type": "stream",
          "name": "stdout",
          "text": [
            "Accuracy of Random Forest is : 0.8965\n",
            "Confusion MAtrix of Random Forest is :\n",
            "[[107  63]\n",
            " [ 62 976]]\n",
            "Recall value for Random Forest is : 0.9403\n",
            "Precisoin value for Random Forest is : 0.9394\n",
            "f1 score of Random forest is : 0.9398\n",
            "\n",
            "Survival Months             0.318714\n",
            "Reginol Node Positive       0.119434\n",
            "Age                         0.086549\n",
            "Tumor Size                  0.082207\n",
            "Regional Node Examined      0.080173\n",
            "N Stage                     0.051963\n",
            "T Stage                     0.045768\n",
            "6th Stage                   0.045636\n",
            "Grade                       0.035883\n",
            "differentiate               0.035553\n",
            "Progesterone Status         0.021243\n",
            "Marital Status_Married      0.015999\n",
            "Marital Status_Single       0.010615\n",
            "Marital Status_Divorced     0.009711\n",
            "Race_White                  0.008527\n",
            "Estrogen Status             0.006949\n",
            "Race_Other                  0.006844\n",
            "Race_Black                  0.005941\n",
            "Marital Status_Widowed      0.005411\n",
            "Marital Status_Separated    0.004141\n",
            "A Stage                     0.002739\n",
            "dtype: float64\n"
          ]
        }
      ]
    },
    {
      "cell_type": "markdown",
      "source": [
        "# 3. Support Vector Classification (SVM)"
      ],
      "metadata": {
        "id": "DzfI9pRiQxaf"
      }
    },
    {
      "cell_type": "code",
      "source": [
        "#Initiating with Method 3 - to get values of Hyperparameters: c & kernel\n",
        "SV_classifier2 = Pipeline([('balancing', SMOTE(random_state = 11)), ('classification', SVC())])  #building model/classifier\n",
        "kernels_c = {'classification__kernel': ['linear','poly','rbf','sigmoid'], 'classification__C': [.001,.01,.1,1,10,100]}\n",
        "\n",
        "SV_grid_search = GridSearchCV(estimator = SV_classifier2, param_grid=kernels_c, scoring='recall', cv=5)\n",
        "SV_grid_search.fit(X_scaled, Y)\n",
        "\n",
        "SV_best_parameters = SV_grid_search.best_params_\n",
        "print(SV_best_parameters)\n",
        "SV_best_result = SV_grid_search.best_score_\n",
        "print(SV_best_result)"
      ],
      "metadata": {
        "colab": {
          "base_uri": "https://localhost:8080/"
        },
        "id": "kO-356l6Q1qJ",
        "outputId": "c0904059-8280-4cff-c57d-22df3dc02c65"
      },
      "execution_count": null,
      "outputs": [
        {
          "output_type": "stream",
          "name": "stdout",
          "text": [
            "{'classification__C': 0.001, 'classification__kernel': 'poly'}\n",
            "0.9823947877237632\n"
          ]
        }
      ]
    },
    {
      "cell_type": "code",
      "source": [
        "#building SVM using method 1\n",
        "#from sklearn.svm import SVC - importing library\n",
        "SV_classifier = SVC(kernel = 'poly')        # 1.building model/classifier\n",
        "SV_classifier.fit(X_train, Y_train)       # 2.training\n",
        "Y_pred_SV = SV_classifier.predict(X_test)  # 3.testing\n",
        "\n",
        "# 4.evaluation          & Confusion Matrix\n",
        "Accuracy_SV = metrics.accuracy_score(Y_test, Y_pred_SV)      #Calculating Accuracy\n",
        "print('Support Vector Accuracy is: ', round(Accuracy_SV,4))\n",
        "\n",
        "conf_matrix_SV = metrics.confusion_matrix(Y_test, Y_pred_SV)   #Calculating Confusion Matrix\n",
        "print('Support Vector Confusion Matrix is: ')\n",
        "print(conf_matrix_SV)\n",
        "\n",
        "recall_SV = metrics.recall_score(Y_test, Y_pred_SV)         #Calculating Recall\n",
        "print('Support Vector Recall is: ', round(recall_SV,4))\n",
        "\n",
        "precision_SV = metrics.precision_score(Y_test, Y_pred_SV)    #Calculating Precision\n",
        "print('Support Vector Precision is: ', round(precision_SV,4))\n",
        "\n",
        "f1_SV = metrics.f1_score(Y_test, Y_pred_SV)               #Calculating f1\n",
        "print('Support Vector f1 is: ', round(f1_SV,4))"
      ],
      "metadata": {
        "colab": {
          "base_uri": "https://localhost:8080/"
        },
        "id": "FAnvCs_NMYtz",
        "outputId": "e1bb7bf7-c696-43bd-b939-4fe6dfcb813b"
      },
      "execution_count": null,
      "outputs": [
        {
          "output_type": "stream",
          "name": "stdout",
          "text": [
            "Support Vector Accuracy is:  0.8336\n",
            "Support Vector Confusion Matrix is: \n",
            "[[102  68]\n",
            " [133 905]]\n",
            "Support Vector Recall is:  0.8719\n",
            "Support Vector Precision is:  0.9301\n",
            "Support Vector f1 is:  0.9\n"
          ]
        }
      ]
    }
  ]
}