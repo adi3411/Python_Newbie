{
  "nbformat": 4,
  "nbformat_minor": 0,
  "metadata": {
    "colab": {
      "provenance": [],
      "collapsed_sections": [
        "Tb0YFYGrTaay",
        "B7kUr0AtXiBA",
        "hBtgnCOFnXaq",
        "B6qd9IYsoVTB",
        "6hnFByBKqRqQ",
        "UDP5Goes8-e4",
        "AfD1hCfMC5pC",
        "dBykkpTQEvte",
        "bgYUJBI11eXy",
        "jUvOQSw6CCRI",
        "kD4Jg2t9GLFw",
        "Z7ijZp35IVlM",
        "u9PY7LS_LNCc",
        "K2-B4XV0PPjL",
        "l0sgNjatqufk"
      ]
    },
    "kernelspec": {
      "name": "python3",
      "display_name": "Python 3"
    },
    "language_info": {
      "name": "python"
    }
  },
  "cells": [
    {
      "cell_type": "markdown",
      "source": [
        "#Python Function Exercises\n",
        "\n",
        "##### Submitted by Aditya Kothapalli - 20062882"
      ],
      "metadata": {
        "id": "4ldJ4j62TTGg"
      }
    },
    {
      "cell_type": "markdown",
      "source": [
        "###1. Area of a circle is calculated as follows: area = π x r x r and perimeter = 2 x π x r. Write a function that calculates area_of_circle and perimeter_of_circle.\n"
      ],
      "metadata": {
        "id": "Tb0YFYGrTaay"
      }
    },
    {
      "cell_type": "code",
      "execution_count": null,
      "metadata": {
        "colab": {
          "base_uri": "https://localhost:8080/"
        },
        "id": "qdwHhI_jTN6r",
        "outputId": "5c38f53f-6acc-4a5a-d1e0-974452e9efe9"
      },
      "outputs": [
        {
          "output_type": "stream",
          "name": "stdout",
          "text": [
            "Enter the radius of the cirlce:5\n",
            "The Area & Perimeter of cirlce with raduis  5.0  is  (78.53750000000001, 31.415000000000003)\n"
          ]
        }
      ],
      "source": [
        "def circle(r):\n",
        "  area = 3.1415 * rad * rad\n",
        "  perimeter = 2 * 3.1415 * rad\n",
        "  return area, perimeter\n",
        "\n",
        "rad = float(input(\"Enter the radius of the cirlce:\"))\n",
        "\n",
        "print(\"The Area & Perimeter of cirlce with raduis \", rad, \" is \", (circle(rad)))"
      ]
    },
    {
      "cell_type": "markdown",
      "source": [
        "###2. Write a function called add_all_nums which takes arbitrary number of arguments and sums all the arguments. Check if all the list items are number types. If not, provide reasonable feedback."
      ],
      "metadata": {
        "id": "B7kUr0AtXiBA"
      }
    },
    {
      "cell_type": "code",
      "source": [
        "def add_all_nums(*nums):\n",
        "  total = 0\n",
        "  for i in nums:\n",
        "    if not isinstance(i, (int, float)):\n",
        "      return print(\"Incorrect!! \", i, \"is not a number\")\n",
        "    total = total + i\n",
        "  return total\n",
        "\n",
        "nums = input(\"Enter a list of numbers speeprated by a comma \")\n",
        "nums = nums.split(\",\")\n",
        "nums = [float(i) for i in nums]\n",
        "\n",
        "print(\"The sum of all enterd numers is \", add_all_nums(*nums))"
      ],
      "metadata": {
        "colab": {
          "base_uri": "https://localhost:8080/"
        },
        "id": "gb6nBh1pXnXF",
        "outputId": "741a0d47-057f-4f18-9549-325440b4be6d",
        "collapsed": true
      },
      "execution_count": 30,
      "outputs": [
        {
          "output_type": "stream",
          "name": "stdout",
          "text": [
            "Enter a list of numbers speeprated by a comma  5,6,9,6,5\n",
            "The sum of all enterd numers is  31.0\n"
          ]
        }
      ]
    },
    {
      "cell_type": "markdown",
      "source": [
        "###3. Temperature in °C can be converted to °F using this formula: °F = (°C x 9/5) + 32. Write a function which converts °C to °F, convert_celsius_2_fahrenheit."
      ],
      "metadata": {
        "id": "hBtgnCOFnXaq"
      }
    },
    {
      "cell_type": "code",
      "source": [
        "def convert_celsius_2_fahrenheit(celsius):\n",
        "  fahrenheit = (celsius * 9/5) + 32\n",
        "  return fahrenheit\n",
        "\n",
        "celsius = float(input(\"Enter teh temperature in celsius: \"))\n",
        "print(\"\")\n",
        "print(\"The temperature converted to Fahrenheit is \", convert_celsius_2_fahrenheit(celsius))"
      ],
      "metadata": {
        "colab": {
          "base_uri": "https://localhost:8080/"
        },
        "id": "b6Kg2chhnxO1",
        "outputId": "5efc734a-0876-4d0e-eaa2-d3db9e78d8bb"
      },
      "execution_count": null,
      "outputs": [
        {
          "output_type": "stream",
          "name": "stdout",
          "text": [
            "Enter teh temperature in celsius: 32\n",
            "\n",
            "The temperature converted to Fahrenheit is  89.6\n"
          ]
        }
      ]
    },
    {
      "cell_type": "markdown",
      "source": [
        "###4. Write a function called check_season, it takes a month parameter and returns the season: Autumn, Winter, Spring, or Summer."
      ],
      "metadata": {
        "id": "B6qd9IYsoVTB"
      }
    },
    {
      "cell_type": "code",
      "source": [
        "def check_season(month):\n",
        "  if month in ['september', 'october', 'november']:\n",
        "    return 'Autumn'\n",
        "  if month in ['december', 'january', 'february']:\n",
        "    return 'WInter'\n",
        "  if month in ['march', 'april', 'may']:\n",
        "    return 'Spring'\n",
        "  if month in ['june', 'july', 'august']:\n",
        "    return 'Summer'\n",
        "  else:\n",
        "    print(\"Incorrect! Enter a Valid Month: \")\n",
        "\n",
        "\n",
        "month = input(\"Enter a month: \")\n",
        "month = month.lower()\n",
        "print(\"\")\n",
        "print(\"The season for the month\", month, \"is\", check_season(month))\n"
      ],
      "metadata": {
        "colab": {
          "base_uri": "https://localhost:8080/"
        },
        "id": "JefjtKPhowoY",
        "outputId": "737c159e-a571-4c26-dbcf-04c15ef533fc"
      },
      "execution_count": 1,
      "outputs": [
        {
          "output_type": "stream",
          "name": "stdout",
          "text": [
            "Enter a month: MARCH\n",
            "\n",
            "The season for the month march is Spring\n"
          ]
        }
      ]
    },
    {
      "cell_type": "markdown",
      "source": [
        "###5. Write a function called calculate_slope which returns the slope of a linear equation."
      ],
      "metadata": {
        "id": "6hnFByBKqRqQ"
      }
    },
    {
      "cell_type": "code",
      "source": [
        "#slope of linear equation formula = (y2-y1)/(x2-x1)\n",
        "\n",
        "def calculate_slope(x1, x2, y1, y2):\n",
        "  X = x2 - x1\n",
        "  Y = y2 - y1\n",
        "  if X == 0:\n",
        "    return \"undefined or Vertical Line\"\n",
        "  slope = Y / X\n",
        "  return slope\n",
        "\n",
        "x_cord1 = float(input(\"Enter the x-cordinates of the 1st point: \"))\n",
        "print(\"\")\n",
        "x_cord2 = float(input(\"Enter the x-cordinates of the 2nd point: \"))\n",
        "print(\"\")\n",
        "y_cord1 = float(input(\"Enter the y-cordinates of the 1st point: \"))\n",
        "print(\"\")\n",
        "y_cord2 = float(input(\"Enter the y-cordinates of the 2nd point: \"))\n",
        "print(\"\")\n",
        "\n",
        "print(\"The slope of this linear equation is: \", calculate_slope(x_cord1, x_cord2, y_cord1, y_cord2))"
      ],
      "metadata": {
        "colab": {
          "base_uri": "https://localhost:8080/"
        },
        "id": "TqcPqZmL6qu8",
        "outputId": "237558db-3b06-43f0-b27f-bbb4165980d3"
      },
      "execution_count": null,
      "outputs": [
        {
          "output_type": "stream",
          "name": "stdout",
          "text": [
            "Enter the x-cordinates of the 1st point: 5\n",
            "\n",
            "Enter the x-cordinates of the 2nd point: 7\n",
            "\n",
            "Enter the y-cordinates of the 1st point: -3\n",
            "\n",
            "Enter the y-cordinates of the 2nd point: -2\n",
            "\n",
            "The slope of this linear equation is:  0.5\n"
          ]
        }
      ]
    },
    {
      "cell_type": "markdown",
      "source": [
        "###6. Quadratic equation is calculated as follows: ax² + bx + c = 0. Write a function which calculates the solution set of a quadratic equation, solve_quadratic_eqn."
      ],
      "metadata": {
        "id": "UDP5Goes8-e4"
      }
    },
    {
      "cell_type": "code",
      "source": [
        "\"\"\"  quadratic eq: ax**2 + bx + c = 0\n",
        "     where (b^2 - 4ac) is called discriminant\n",
        "     Quard. formula = ((-b) +- (sqrt(b^2 - 4ac)))/2a\n",
        "\"\"\"\n",
        "import math\n",
        "def solve_quadratic_eqn(a, b, c):\n",
        "  discriminant = (b**2) - (4*a*c)\n",
        "  if discriminant > 0:\n",
        "    root1 = (-b + math.sqrt(discriminant)) / (2 * a)\n",
        "    root2 = (-b - math.sqrt(discriminant)) / (2 * a)\n",
        "    return (root1, root2)\n",
        "  elif discriminant == 0:\n",
        "    root1 = root2 = -b  / (2 * a)\n",
        "    return (root1, root2)\n",
        "  else:\n",
        "    real = -b / (2 * a)\n",
        "    imaginary= math.sqrt(-discriminant) / (2 * a)\n",
        "    root1 = complex(real, imaginary)\n",
        "    root2 = complex(real, -imaginary)\n",
        "    return (root1, root2)\n",
        "\n",
        "a = float(input(\"Enter the value of a: \"))\n",
        "b = float(input(\"Enter the value of b: \"))\n",
        "c = float(input(\"Enter the value of c: \"))\n",
        "\n",
        "quad_equation = solve_quadratic_eqn(a, b, c)\n",
        "print(\"\")\n",
        "print(\"The roots of the quadratic equation are: \", quad_equation)"
      ],
      "metadata": {
        "colab": {
          "base_uri": "https://localhost:8080/"
        },
        "id": "ItmuGjCD9AJp",
        "outputId": "413a0531-4d2d-4b4b-c52f-d274e46a4e48"
      },
      "execution_count": null,
      "outputs": [
        {
          "output_type": "stream",
          "name": "stdout",
          "text": [
            "Enter the value of a: 2\n",
            "Enter the value of b: 4\n",
            "Enter the value of c: 1\n",
            "\n",
            "The roots of the quadratic equation are:  (-0.2928932188134524, -1.7071067811865475)\n"
          ]
        }
      ]
    },
    {
      "cell_type": "markdown",
      "source": [
        "###7. Declare a function named print_list. It takes a list as a parameter and prints out each element of the list."
      ],
      "metadata": {
        "id": "AfD1hCfMC5pC"
      }
    },
    {
      "cell_type": "code",
      "source": [
        "def print_list(lst):\n",
        "  for i in lst:\n",
        "    print(i, end = \", \")\n",
        "\n",
        "lst = input(\"Enter a list of numbers seperated by comma: \")\n",
        "lst = lst.split(\",\")\n",
        "\n",
        "print(print_list(lst))"
      ],
      "metadata": {
        "colab": {
          "base_uri": "https://localhost:8080/"
        },
        "id": "Ubmg62PjC-x2",
        "outputId": "d490f631-e388-4445-af06-c1bfde70fe19"
      },
      "execution_count": 23,
      "outputs": [
        {
          "output_type": "stream",
          "name": "stdout",
          "text": [
            "Enter a list of numbers seperated by comma: 5,7,8,6,1,6,6,6,8\n",
            "5, 7, 8, 6, 1, 6, 6, 6, 8, None\n"
          ]
        }
      ]
    },
    {
      "cell_type": "markdown",
      "source": [
        "### 8. Declare a function named reverse_list. It takes an array as a parameter and returns the reverse of the array (use loops)."
      ],
      "metadata": {
        "id": "dBykkpTQEvte"
      }
    },
    {
      "cell_type": "code",
      "source": [
        "def reverse_list(new_list):\n",
        "  lst1 = new_list[::-1]\n",
        "  return lst1\n",
        "\n",
        "new_list = input(\"Enter a list of numbers seperated by comma: \")\n",
        "new_list = new_list.split(\",\")\n",
        "\n",
        "print(\"The reversed list is: \", reverse_list(new_list))"
      ],
      "metadata": {
        "id": "tM2iaHISFAUV",
        "colab": {
          "base_uri": "https://localhost:8080/"
        },
        "outputId": "50fd4b01-72fc-4edf-9cee-fde94642edab"
      },
      "execution_count": 3,
      "outputs": [
        {
          "output_type": "stream",
          "name": "stdout",
          "text": [
            "Enter a list of numbers seperated by comma: 1,5,6,4,8,100\n",
            "The reversed list is:  ['100', '8', '4', '6', '5', '1']\n"
          ]
        }
      ]
    },
    {
      "cell_type": "markdown",
      "source": [
        "###9. Declare a function named capitalize_list_items. It takes a list as a parameter and returns a capitalized list of items."
      ],
      "metadata": {
        "id": "bgYUJBI11eXy"
      }
    },
    {
      "cell_type": "code",
      "source": [
        "def capitalize_list_items(capitals):\n",
        "  return capitals.upper()\n",
        "\n",
        "\n",
        "capitals = input(\"Enter a sentence: \")\n",
        "print(\"\")\n",
        "print(\"The Upper case of the entered sentence is :\", capitalize_list_items(capitals))"
      ],
      "metadata": {
        "colab": {
          "base_uri": "https://localhost:8080/"
        },
        "id": "tLm5rJi7BQ9N",
        "outputId": "e5d0d862-913d-4916-a465-79cc27965b68"
      },
      "execution_count": 7,
      "outputs": [
        {
          "output_type": "stream",
          "name": "stdout",
          "text": [
            "Enter a sentence: hello i'm python\n",
            "\n",
            "The Upper case of the entered sentence is : HELLO I'M PYTHON\n"
          ]
        }
      ]
    },
    {
      "cell_type": "markdown",
      "source": [
        "###10. Declare a function named add_item. It takes a list and an item as parameters. It returns a list with the item added at the end."
      ],
      "metadata": {
        "id": "jUvOQSw6CCRI"
      }
    },
    {
      "cell_type": "code",
      "source": [
        "#primary method\n",
        "def add_item(list1, new_item):\n",
        "  list1.append(new_item)\n",
        "  return list1\n",
        "\n",
        "food_staff = ['Potato', 'Tomato', 'Mango', 'Milk']\n",
        "print(\"The new list with new item added is: \", add_item(food_staff, 'Fungi'))\n",
        "print(\"\")\n",
        "\n",
        "numbers = [2, 3, 7, 9]\n",
        "print(\"The new list with new number added is: \", add_item(numbers, 5))"
      ],
      "metadata": {
        "colab": {
          "base_uri": "https://localhost:8080/"
        },
        "id": "XfJGuGvkE-Kt",
        "outputId": "0cfc3211-6355-4566-b12f-96f5400dc513"
      },
      "execution_count": 12,
      "outputs": [
        {
          "output_type": "stream",
          "name": "stdout",
          "text": [
            "The new list with new item added is:  ['Potato', 'Tomato', 'Mango', 'Milk', 'Fungi']\n",
            "\n",
            "The new list with new item added is:  [2, 3, 7, 9, 5]\n"
          ]
        }
      ]
    },
    {
      "cell_type": "code",
      "source": [
        "#2nd Method:\n",
        "\n",
        "def add_item(list1, item1):\n",
        "  list1.append(item1)\n",
        "  return list1\n",
        "\n",
        "list1 = input(\"Enter a list of numbers seperated by comma: \")\n",
        "list1 = list1.split(\",\")\n",
        "print(\"\")\n",
        "item1 = input(\"Enter the item to be added: \")\n",
        "\n",
        "print(\"The new list with the item added is: \", add_item(list1, item1))"
      ],
      "metadata": {
        "colab": {
          "base_uri": "https://localhost:8080/"
        },
        "id": "NQxGxdNGCRTE",
        "outputId": "0c099126-2f62-4058-9930-2fafb5db5938"
      },
      "execution_count": 10,
      "outputs": [
        {
          "output_type": "stream",
          "name": "stdout",
          "text": [
            "Enter a list of numbers seperated by comma: 56,45,98,100,23,4\n",
            "\n",
            "Enter the item to be added: 984\n",
            "The new list with the item added is:  ['56', '45', '98', '100', '23', '4', '984']\n"
          ]
        }
      ]
    },
    {
      "cell_type": "markdown",
      "source": [
        "###11.Declare a function named remove_item. It takes a list and an item as parameters. It returns a list with the item removed from it."
      ],
      "metadata": {
        "id": "kD4Jg2t9GLFw"
      }
    },
    {
      "cell_type": "code",
      "source": [
        "def remove_item(list1, item1):\n",
        "  list1.remove(item1)\n",
        "  return list1\n",
        "\n",
        "food_staff = ['Potato', 'Tomato', 'Mango', 'Milk']\n",
        "print(\"The new list with 1 item remove is: \", remove_item(food_staff, 'Mango'))\n",
        "print(\"\")\n",
        "numbers = [2, 3, 7, 9]\n",
        "print(\"The new list with 1 item remove is: \", remove_item(numbers, 3))"
      ],
      "metadata": {
        "colab": {
          "base_uri": "https://localhost:8080/"
        },
        "id": "x4gNQRplGOdL",
        "outputId": "387b1d29-b6cb-479f-fb60-2ef67a0118f6"
      },
      "execution_count": 13,
      "outputs": [
        {
          "output_type": "stream",
          "name": "stdout",
          "text": [
            "The new list with 1 item remove is:  ['Potato', 'Tomato', 'Milk']\n",
            "\n",
            "The new list with 1 item remove is:  [2, 7, 9]\n"
          ]
        }
      ]
    },
    {
      "cell_type": "markdown",
      "source": [
        "###12. Declare a function named sum_of_numbers. It takes a number parameter and adds all the numbers in that range.\n"
      ],
      "metadata": {
        "id": "Z7ijZp35IVlM"
      }
    },
    {
      "cell_type": "code",
      "source": [
        "def sum_of_numbers(item1):\n",
        "  sum = 0\n",
        "  for i in range(item1 + 1):\n",
        "    sum = sum + i\n",
        "  return sum\n",
        "\n",
        "#num_range = int(input(\"Enter the range to which the numbers are to be added \"))\n",
        "print(\"The sum of number enterd is \", sum_of_numbers(5))\n",
        "print(sum_of_numbers(10))\n",
        "print(sum_of_numbers(100))"
      ],
      "metadata": {
        "colab": {
          "base_uri": "https://localhost:8080/"
        },
        "id": "6Ab4PH7pIaPU",
        "outputId": "d032127e-e32a-4579-fba3-29ac453e3b3b"
      },
      "execution_count": 20,
      "outputs": [
        {
          "output_type": "stream",
          "name": "stdout",
          "text": [
            "The sum of number enterd is  15\n",
            "55\n",
            "5050\n"
          ]
        }
      ]
    },
    {
      "cell_type": "markdown",
      "source": [
        "### 13.  Declare a function named sum_of_odds. It takes a number parameter and adds all the odd numbers in that range.\n",
        "### 14. Declare a function named sum_of_even. It takes a number parameter and adds all the even numbers in that range.\n",
        "### 15. Declare a function named evens_and_odds. It takes a positive integer as a parameter and counts the number of evens and odds in the number.\n"
      ],
      "metadata": {
        "id": "u9PY7LS_LNCc"
      }
    },
    {
      "cell_type": "code",
      "source": [
        "def sum_of_odds(item1):\n",
        "  odd_nos = []\n",
        "  sum = 0\n",
        "  for i in range(item1 + 1):\n",
        "    if i % 2 != 0:\n",
        "      odd_nos.append(i)\n",
        "      sum = sum + i\n",
        "  return sum, odd_nos\n",
        "\n",
        "def sum_of_evens(item1):\n",
        "  even_nos = []\n",
        "  sum = 0\n",
        "  for i in range(item1 + 1):\n",
        "    if i % 2 == 0:\n",
        "      even_nos.append(i)\n",
        "      sum = sum + i\n",
        "  return sum, even_nos\n",
        "\n",
        "def evens_and_odds(item1):\n",
        "  even = len(even_nos)\n",
        "  odd = len(odd_nos)\n",
        "  return even, odd\n",
        "\n",
        "num_range = int(input(\"Enter the range to which you need the sum of odd numbers \"))\n",
        "\n",
        "print(\"\")\n",
        "sum_odds , odd_nos = sum_of_odds(num_range)\n",
        "print(\"The sum of odd numbers\", odd_nos, \" is:\", sum_odds)\n",
        "\n",
        "print(\"\")\n",
        "sum_evens , even_nos = sum_of_evens(num_range)\n",
        "print(\"The sum of even numbers\", even_nos, \" is:\", sum_evens)\n",
        "\n",
        "print(\"\")\n",
        "count_even, count_odd = evens_and_odds(num_range)\n",
        "print(\"The count of odd numbers is\", count_odd)\n",
        "print(\"The count of even numbers is\", count_even)"
      ],
      "metadata": {
        "colab": {
          "base_uri": "https://localhost:8080/"
        },
        "id": "A7pVYEQVLPW3",
        "outputId": "f8839101-d5da-414b-b6e2-60b87699a637"
      },
      "execution_count": 27,
      "outputs": [
        {
          "output_type": "stream",
          "name": "stdout",
          "text": [
            "Enter the range to which you need the sum of odd numbers 16\n",
            "\n",
            "The sum of odd numbers [1, 3, 5, 7, 9, 11, 13, 15]  is: 64\n",
            "\n",
            "The sum of even numbers [0, 2, 4, 6, 8, 10, 12, 14, 16]  is: 72\n",
            "\n",
            "The count of odd numbers is 8\n",
            "The count of even numbers is 9\n"
          ]
        }
      ]
    },
    {
      "cell_type": "markdown",
      "source": [
        "###16. Call your function factorial, it takes a whole number as a parameter and returns its factorial"
      ],
      "metadata": {
        "id": "K2-B4XV0PPjL"
      }
    },
    {
      "cell_type": "code",
      "source": [
        "def factorial(num):\n",
        "  total = 1\n",
        "  if num < 0:\n",
        "    print(\"Incorrect! Factorial doesn't exist for a negative number\")\n",
        "\n",
        "  elif num == 0:\n",
        "    print(\"Good one! The Factorial of '0' is 1\")\n",
        "\n",
        "  else:\n",
        "    for i in range(1, num + 1):\n",
        "     total = total * i\n",
        "    return total\n",
        "\n",
        "num = int(input(\"Enter a number: \"))\n",
        "print(\"\")\n",
        "print(\"The factorial of\", num, \"is\", factorial(num))"
      ],
      "metadata": {
        "colab": {
          "base_uri": "https://localhost:8080/"
        },
        "id": "4ASa8nrlo5We",
        "outputId": "88222187-f2e4-4eab-cfcd-8cce70a5d9bb"
      },
      "execution_count": 37,
      "outputs": [
        {
          "output_type": "stream",
          "name": "stdout",
          "text": [
            "Enter a number: -1\n",
            "\n",
            "Incorrect! Factorial doesn't exist for a negative number\n",
            "The factorial of -1 is None\n"
          ]
        }
      ]
    },
    {
      "cell_type": "markdown",
      "source": [
        "###17. Call your function is_empty, it takes a parameter and checks if it is empty or not."
      ],
      "metadata": {
        "id": "l0sgNjatqufk"
      }
    },
    {
      "cell_type": "code",
      "source": [
        "def is_empty(item):\n",
        "  if not item:\n",
        "    return print(\"The value is empty\")\n",
        "  else:\n",
        "    return print(\"The value is not empty as it has this-->\", item)\n",
        "\n",
        "value = input(\"Enter something (string, list, etc.): \")\n",
        "print(is_empty(value))"
      ],
      "metadata": {
        "colab": {
          "base_uri": "https://localhost:8080/"
        },
        "id": "l6exoRSCqxzN",
        "outputId": "ffc22a01-e19a-455e-ebdb-e75f9447f128"
      },
      "execution_count": 41,
      "outputs": [
        {
          "output_type": "stream",
          "name": "stdout",
          "text": [
            "Enter something (string, list, etc.): phtyhfi\n",
            "The value is not empty as it has this--> phtyhfi\n",
            "None\n"
          ]
        }
      ]
    },
    {
      "cell_type": "markdown",
      "source": [
        "###18. Write a different function which take lists. They should calculate_mean, calculate_median, calculate_mode, calculate_range, calculate_variance, and calculate_std (standard deviation)."
      ],
      "metadata": {
        "id": "VtsrQlwNtOfP"
      }
    },
    {
      "cell_type": "code",
      "source": [
        "import statistics\n",
        "\n",
        "def calculate_mean(list1):\n",
        "  total = 0\n",
        "  n = len(list1)\n",
        "  for i in list1:\n",
        "    total = total + float(i)\n",
        "  mean = total / n\n",
        "  return round(mean, 4)\n",
        "\n",
        "def calculate_median(list1):\n",
        "  list1.sort()\n",
        "  x = len(list1)\n",
        "  if x % 2 == 0:     #converting list to inividual umbers\n",
        "    median1 = list1[x // 2]    #elements in list need (//) integer divisoin instead of normal one (/).\n",
        "    median2 = list1[x// 2 - 1]\n",
        "    median = (median1 + median2) / 2\n",
        "\n",
        "  else:\n",
        "    median = list1[x // 2]\n",
        "  return median\n",
        "\n",
        "def calculate_mode(list1):\n",
        "  import statistics\n",
        "  Mode = statistics.mode(list1)\n",
        "  return Mode\n",
        "\n",
        "def calculate_range(list1):\n",
        "  range = max(list1) - min(list1)\n",
        "  return range\n",
        "\n",
        "def calculate_variance(list1):\n",
        "  #import statistics\n",
        "  variance = statistics.variance(list1)   #pre-built functions available in library called Statistics\n",
        "  return round(variance, 4)\n",
        "\n",
        "def calculate_std(list1):\n",
        "  std = statistics.stdev(list1)\n",
        "  return round(std, 4)\n",
        "\n",
        "list1 = input(\"Enter a list of numbers seperated by comma: \")\n",
        "list1 = list1.split(',')\n",
        "list1 = [float(i) for i in list1]   #Converting the each element of list to float\n",
        "\n",
        "#Calculating MEAN:\n",
        "print(\"\")\n",
        "print(\"The mean of the enterd numbers\", list1, \"is\", calculate_mean(list1))\n",
        "\n",
        "#Calculating MEDIAN:\n",
        "print(\"\")\n",
        "print(\"The Median of the enterd numbers\", list1, \"is\", calculate_median(list1))\n",
        "\n",
        "#Calculating MODE:\n",
        "print(\"\")\n",
        "print(\"The MOde of the enterd numbers\", list1, \"is\", calculate_mode(list1))\n",
        "\n",
        "#Calculating RANGE\n",
        "print(\"\")\n",
        "print(\"The Range of the enterd numbers\", list1, \"is\", calculate_range(list1))\n",
        "\n",
        "#Calculating VARIANCE\n",
        "print(\"\")\n",
        "print(\"The Variance of the enterd numbers\", list1, \"is\", calculate_variance(list1))\n",
        "\n",
        "#Calculating standard deviation\n",
        "print(\"\")\n",
        "print(\"The Std. Dev. of the enterd numbers\", list1, \"is\", calculate_std(list1))"
      ],
      "metadata": {
        "colab": {
          "base_uri": "https://localhost:8080/"
        },
        "id": "_tHlwLu7tSNv",
        "outputId": "da14aab0-4e69-400a-ae7f-6ec4e8d8d415"
      },
      "execution_count": 8,
      "outputs": [
        {
          "output_type": "stream",
          "name": "stdout",
          "text": [
            "Enter a list of numbers seperated by comma: 4, 1, 2, 2, 3, 4, 4, 5\n",
            "\n",
            "The mean of the enterd numbers [4.0, 1.0, 2.0, 2.0, 3.0, 4.0, 4.0, 5.0] is 3.125\n",
            "\n",
            "The Median of the enterd numbers [1.0, 2.0, 2.0, 3.0, 4.0, 4.0, 4.0, 5.0] is 3.5\n",
            "\n",
            "The MOde of the enterd numbers [1.0, 2.0, 2.0, 3.0, 4.0, 4.0, 4.0, 5.0] is 4.0\n",
            "\n",
            "The Range of the enterd numbers [1.0, 2.0, 2.0, 3.0, 4.0, 4.0, 4.0, 5.0] is 4.0\n",
            "\n",
            "The Variance of the enterd numbers [1.0, 2.0, 2.0, 3.0, 4.0, 4.0, 4.0, 5.0] is 1.8393\n",
            "\n",
            "The Std. Dev. of the enterd numbers [1.0, 2.0, 2.0, 3.0, 4.0, 4.0, 4.0, 5.0] is 1.3562\n"
          ]
        }
      ]
    }
  ]
}