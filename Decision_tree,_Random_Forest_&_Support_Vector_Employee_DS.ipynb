{
  "nbformat": 4,
  "nbformat_minor": 0,
  "metadata": {
    "colab": {
      "provenance": [],
      "collapsed_sections": [
        "nMY2r40mMnQE"
      ]
    },
    "kernelspec": {
      "name": "python3",
      "display_name": "Python 3"
    },
    "language_info": {
      "name": "python"
    }
  },
  "cells": [
    {
      "cell_type": "markdown",
      "source": [
        "#Using Decision Trees, Random Forest and Support Vector Classfiers on Employee dataset"
      ],
      "metadata": {
        "id": "FtK73KnsJkk3"
      }
    },
    {
      "cell_type": "markdown",
      "source": [
        "### Import all required libraries"
      ],
      "metadata": {
        "id": "wZcmmIqUKuv2"
      }
    },
    {
      "cell_type": "code",
      "execution_count": null,
      "metadata": {
        "id": "7v1djXYyHzLo"
      },
      "outputs": [],
      "source": [
        "from pandas import read_csv, get_dummies, Series, DataFrame\n",
        "from sklearn.preprocessing import StandardScaler\n",
        "from sklearn.model_selection import train_test_split\n",
        "from imblearn.over_sampling import SMOTE\n",
        "\n",
        "from sklearn import metrics\n",
        "from sklearn import ensemble\n",
        "\n",
        "from sklearn.tree import DecisionTreeClassifier\n",
        "from sklearn.model_selection import GridSearchCV  #method 2\n",
        "\n",
        "from sklearn.ensemble import RandomForestClassifier\n",
        "from imblearn.pipeline import Pipeline    #method 3\n",
        "\n",
        "from sklearn.svm import SVC\n",
        "from sklearn.model_selection import GridSearchCV   #method 3"
      ]
    },
    {
      "cell_type": "markdown",
      "source": [
        "### Load and Read Dataset"
      ],
      "metadata": {
        "id": "7QlHDHibLKEc"
      }
    },
    {
      "cell_type": "code",
      "source": [
        "data = read_csv('/content/drive/MyDrive/ML_Stats/Emloyees.csv')"
      ],
      "metadata": {
        "id": "oxnWhfuELgS4"
      },
      "execution_count": null,
      "outputs": []
    },
    {
      "cell_type": "markdown",
      "source": [
        "## Data Exploration & Preparation"
      ],
      "metadata": {
        "id": "d8gYUV5FLvs3"
      }
    },
    {
      "cell_type": "markdown",
      "source": [],
      "metadata": {
        "id": "fnVddysqZpkf"
      }
    },
    {
      "cell_type": "code",
      "source": [
        "data.head()"
      ],
      "metadata": {
        "colab": {
          "base_uri": "https://localhost:8080/",
          "height": 313
        },
        "collapsed": true,
        "id": "lGt2_G1XNkkm",
        "outputId": "aed3951a-2bff-4dc6-affa-369e18f23698"
      },
      "execution_count": null,
      "outputs": [
        {
          "output_type": "execute_result",
          "data": {
            "text/plain": [
              "   Age PastEmployee BusinessTravel       Department  DistanceFromHome  \\\n",
              "0   46           No  Travel_Rarely  Human Resources                 5   \n",
              "1   37          Yes  Travel_Rarely  Human Resources                 6   \n",
              "2   59           No     Non-Travel  Human Resources                 2   \n",
              "3   54           No     Non-Travel  Human Resources                26   \n",
              "4   26           No  Travel_Rarely  Human Resources                25   \n",
              "\n",
              "    EducationField  EnvironmentSatisfaction  Gender          JobRole  \\\n",
              "0          Medical                        2    Male  Human Resources   \n",
              "1  Human Resources                        3    Male  Human Resources   \n",
              "2  Human Resources                        3  Female          Manager   \n",
              "3  Human Resources                        4  Female          Manager   \n",
              "4    Life Sciences                        3  Female  Human Resources   \n",
              "\n",
              "  MaritalStatus  MonthlyIncome  NumCompaniesWorked OverTime  \n",
              "0      Divorced           5021                   8      Yes  \n",
              "1      Divorced           2073                   4      Yes  \n",
              "2       Married          18844                   9       No  \n",
              "3        Single          17328                   2      Yes  \n",
              "4       Married           2942                   1       No  "
            ],
            "text/html": [
              "\n",
              "  <div id=\"df-196c4fd8-0192-48ea-8426-bb80b3e85ec6\" class=\"colab-df-container\">\n",
              "    <div>\n",
              "<style scoped>\n",
              "    .dataframe tbody tr th:only-of-type {\n",
              "        vertical-align: middle;\n",
              "    }\n",
              "\n",
              "    .dataframe tbody tr th {\n",
              "        vertical-align: top;\n",
              "    }\n",
              "\n",
              "    .dataframe thead th {\n",
              "        text-align: right;\n",
              "    }\n",
              "</style>\n",
              "<table border=\"1\" class=\"dataframe\">\n",
              "  <thead>\n",
              "    <tr style=\"text-align: right;\">\n",
              "      <th></th>\n",
              "      <th>Age</th>\n",
              "      <th>PastEmployee</th>\n",
              "      <th>BusinessTravel</th>\n",
              "      <th>Department</th>\n",
              "      <th>DistanceFromHome</th>\n",
              "      <th>EducationField</th>\n",
              "      <th>EnvironmentSatisfaction</th>\n",
              "      <th>Gender</th>\n",
              "      <th>JobRole</th>\n",
              "      <th>MaritalStatus</th>\n",
              "      <th>MonthlyIncome</th>\n",
              "      <th>NumCompaniesWorked</th>\n",
              "      <th>OverTime</th>\n",
              "    </tr>\n",
              "  </thead>\n",
              "  <tbody>\n",
              "    <tr>\n",
              "      <th>0</th>\n",
              "      <td>46</td>\n",
              "      <td>No</td>\n",
              "      <td>Travel_Rarely</td>\n",
              "      <td>Human Resources</td>\n",
              "      <td>5</td>\n",
              "      <td>Medical</td>\n",
              "      <td>2</td>\n",
              "      <td>Male</td>\n",
              "      <td>Human Resources</td>\n",
              "      <td>Divorced</td>\n",
              "      <td>5021</td>\n",
              "      <td>8</td>\n",
              "      <td>Yes</td>\n",
              "    </tr>\n",
              "    <tr>\n",
              "      <th>1</th>\n",
              "      <td>37</td>\n",
              "      <td>Yes</td>\n",
              "      <td>Travel_Rarely</td>\n",
              "      <td>Human Resources</td>\n",
              "      <td>6</td>\n",
              "      <td>Human Resources</td>\n",
              "      <td>3</td>\n",
              "      <td>Male</td>\n",
              "      <td>Human Resources</td>\n",
              "      <td>Divorced</td>\n",
              "      <td>2073</td>\n",
              "      <td>4</td>\n",
              "      <td>Yes</td>\n",
              "    </tr>\n",
              "    <tr>\n",
              "      <th>2</th>\n",
              "      <td>59</td>\n",
              "      <td>No</td>\n",
              "      <td>Non-Travel</td>\n",
              "      <td>Human Resources</td>\n",
              "      <td>2</td>\n",
              "      <td>Human Resources</td>\n",
              "      <td>3</td>\n",
              "      <td>Female</td>\n",
              "      <td>Manager</td>\n",
              "      <td>Married</td>\n",
              "      <td>18844</td>\n",
              "      <td>9</td>\n",
              "      <td>No</td>\n",
              "    </tr>\n",
              "    <tr>\n",
              "      <th>3</th>\n",
              "      <td>54</td>\n",
              "      <td>No</td>\n",
              "      <td>Non-Travel</td>\n",
              "      <td>Human Resources</td>\n",
              "      <td>26</td>\n",
              "      <td>Human Resources</td>\n",
              "      <td>4</td>\n",
              "      <td>Female</td>\n",
              "      <td>Manager</td>\n",
              "      <td>Single</td>\n",
              "      <td>17328</td>\n",
              "      <td>2</td>\n",
              "      <td>Yes</td>\n",
              "    </tr>\n",
              "    <tr>\n",
              "      <th>4</th>\n",
              "      <td>26</td>\n",
              "      <td>No</td>\n",
              "      <td>Travel_Rarely</td>\n",
              "      <td>Human Resources</td>\n",
              "      <td>25</td>\n",
              "      <td>Life Sciences</td>\n",
              "      <td>3</td>\n",
              "      <td>Female</td>\n",
              "      <td>Human Resources</td>\n",
              "      <td>Married</td>\n",
              "      <td>2942</td>\n",
              "      <td>1</td>\n",
              "      <td>No</td>\n",
              "    </tr>\n",
              "  </tbody>\n",
              "</table>\n",
              "</div>\n",
              "    <div class=\"colab-df-buttons\">\n",
              "\n",
              "  <div class=\"colab-df-container\">\n",
              "    <button class=\"colab-df-convert\" onclick=\"convertToInteractive('df-196c4fd8-0192-48ea-8426-bb80b3e85ec6')\"\n",
              "            title=\"Convert this dataframe to an interactive table.\"\n",
              "            style=\"display:none;\">\n",
              "\n",
              "  <svg xmlns=\"http://www.w3.org/2000/svg\" height=\"24px\" viewBox=\"0 -960 960 960\">\n",
              "    <path d=\"M120-120v-720h720v720H120Zm60-500h600v-160H180v160Zm220 220h160v-160H400v160Zm0 220h160v-160H400v160ZM180-400h160v-160H180v160Zm440 0h160v-160H620v160ZM180-180h160v-160H180v160Zm440 0h160v-160H620v160Z\"/>\n",
              "  </svg>\n",
              "    </button>\n",
              "\n",
              "  <style>\n",
              "    .colab-df-container {\n",
              "      display:flex;\n",
              "      gap: 12px;\n",
              "    }\n",
              "\n",
              "    .colab-df-convert {\n",
              "      background-color: #E8F0FE;\n",
              "      border: none;\n",
              "      border-radius: 50%;\n",
              "      cursor: pointer;\n",
              "      display: none;\n",
              "      fill: #1967D2;\n",
              "      height: 32px;\n",
              "      padding: 0 0 0 0;\n",
              "      width: 32px;\n",
              "    }\n",
              "\n",
              "    .colab-df-convert:hover {\n",
              "      background-color: #E2EBFA;\n",
              "      box-shadow: 0px 1px 2px rgba(60, 64, 67, 0.3), 0px 1px 3px 1px rgba(60, 64, 67, 0.15);\n",
              "      fill: #174EA6;\n",
              "    }\n",
              "\n",
              "    .colab-df-buttons div {\n",
              "      margin-bottom: 4px;\n",
              "    }\n",
              "\n",
              "    [theme=dark] .colab-df-convert {\n",
              "      background-color: #3B4455;\n",
              "      fill: #D2E3FC;\n",
              "    }\n",
              "\n",
              "    [theme=dark] .colab-df-convert:hover {\n",
              "      background-color: #434B5C;\n",
              "      box-shadow: 0px 1px 3px 1px rgba(0, 0, 0, 0.15);\n",
              "      filter: drop-shadow(0px 1px 2px rgba(0, 0, 0, 0.3));\n",
              "      fill: #FFFFFF;\n",
              "    }\n",
              "  </style>\n",
              "\n",
              "    <script>\n",
              "      const buttonEl =\n",
              "        document.querySelector('#df-196c4fd8-0192-48ea-8426-bb80b3e85ec6 button.colab-df-convert');\n",
              "      buttonEl.style.display =\n",
              "        google.colab.kernel.accessAllowed ? 'block' : 'none';\n",
              "\n",
              "      async function convertToInteractive(key) {\n",
              "        const element = document.querySelector('#df-196c4fd8-0192-48ea-8426-bb80b3e85ec6');\n",
              "        const dataTable =\n",
              "          await google.colab.kernel.invokeFunction('convertToInteractive',\n",
              "                                                    [key], {});\n",
              "        if (!dataTable) return;\n",
              "\n",
              "        const docLinkHtml = 'Like what you see? Visit the ' +\n",
              "          '<a target=\"_blank\" href=https://colab.research.google.com/notebooks/data_table.ipynb>data table notebook</a>'\n",
              "          + ' to learn more about interactive tables.';\n",
              "        element.innerHTML = '';\n",
              "        dataTable['output_type'] = 'display_data';\n",
              "        await google.colab.output.renderOutput(dataTable, element);\n",
              "        const docLink = document.createElement('div');\n",
              "        docLink.innerHTML = docLinkHtml;\n",
              "        element.appendChild(docLink);\n",
              "      }\n",
              "    </script>\n",
              "  </div>\n",
              "\n",
              "\n",
              "<div id=\"df-b496d24a-c59e-4dc8-93e7-811a15d6442b\">\n",
              "  <button class=\"colab-df-quickchart\" onclick=\"quickchart('df-b496d24a-c59e-4dc8-93e7-811a15d6442b')\"\n",
              "            title=\"Suggest charts\"\n",
              "            style=\"display:none;\">\n",
              "\n",
              "<svg xmlns=\"http://www.w3.org/2000/svg\" height=\"24px\"viewBox=\"0 0 24 24\"\n",
              "     width=\"24px\">\n",
              "    <g>\n",
              "        <path d=\"M19 3H5c-1.1 0-2 .9-2 2v14c0 1.1.9 2 2 2h14c1.1 0 2-.9 2-2V5c0-1.1-.9-2-2-2zM9 17H7v-7h2v7zm4 0h-2V7h2v10zm4 0h-2v-4h2v4z\"/>\n",
              "    </g>\n",
              "</svg>\n",
              "  </button>\n",
              "\n",
              "<style>\n",
              "  .colab-df-quickchart {\n",
              "      --bg-color: #E8F0FE;\n",
              "      --fill-color: #1967D2;\n",
              "      --hover-bg-color: #E2EBFA;\n",
              "      --hover-fill-color: #174EA6;\n",
              "      --disabled-fill-color: #AAA;\n",
              "      --disabled-bg-color: #DDD;\n",
              "  }\n",
              "\n",
              "  [theme=dark] .colab-df-quickchart {\n",
              "      --bg-color: #3B4455;\n",
              "      --fill-color: #D2E3FC;\n",
              "      --hover-bg-color: #434B5C;\n",
              "      --hover-fill-color: #FFFFFF;\n",
              "      --disabled-bg-color: #3B4455;\n",
              "      --disabled-fill-color: #666;\n",
              "  }\n",
              "\n",
              "  .colab-df-quickchart {\n",
              "    background-color: var(--bg-color);\n",
              "    border: none;\n",
              "    border-radius: 50%;\n",
              "    cursor: pointer;\n",
              "    display: none;\n",
              "    fill: var(--fill-color);\n",
              "    height: 32px;\n",
              "    padding: 0;\n",
              "    width: 32px;\n",
              "  }\n",
              "\n",
              "  .colab-df-quickchart:hover {\n",
              "    background-color: var(--hover-bg-color);\n",
              "    box-shadow: 0 1px 2px rgba(60, 64, 67, 0.3), 0 1px 3px 1px rgba(60, 64, 67, 0.15);\n",
              "    fill: var(--button-hover-fill-color);\n",
              "  }\n",
              "\n",
              "  .colab-df-quickchart-complete:disabled,\n",
              "  .colab-df-quickchart-complete:disabled:hover {\n",
              "    background-color: var(--disabled-bg-color);\n",
              "    fill: var(--disabled-fill-color);\n",
              "    box-shadow: none;\n",
              "  }\n",
              "\n",
              "  .colab-df-spinner {\n",
              "    border: 2px solid var(--fill-color);\n",
              "    border-color: transparent;\n",
              "    border-bottom-color: var(--fill-color);\n",
              "    animation:\n",
              "      spin 1s steps(1) infinite;\n",
              "  }\n",
              "\n",
              "  @keyframes spin {\n",
              "    0% {\n",
              "      border-color: transparent;\n",
              "      border-bottom-color: var(--fill-color);\n",
              "      border-left-color: var(--fill-color);\n",
              "    }\n",
              "    20% {\n",
              "      border-color: transparent;\n",
              "      border-left-color: var(--fill-color);\n",
              "      border-top-color: var(--fill-color);\n",
              "    }\n",
              "    30% {\n",
              "      border-color: transparent;\n",
              "      border-left-color: var(--fill-color);\n",
              "      border-top-color: var(--fill-color);\n",
              "      border-right-color: var(--fill-color);\n",
              "    }\n",
              "    40% {\n",
              "      border-color: transparent;\n",
              "      border-right-color: var(--fill-color);\n",
              "      border-top-color: var(--fill-color);\n",
              "    }\n",
              "    60% {\n",
              "      border-color: transparent;\n",
              "      border-right-color: var(--fill-color);\n",
              "    }\n",
              "    80% {\n",
              "      border-color: transparent;\n",
              "      border-right-color: var(--fill-color);\n",
              "      border-bottom-color: var(--fill-color);\n",
              "    }\n",
              "    90% {\n",
              "      border-color: transparent;\n",
              "      border-bottom-color: var(--fill-color);\n",
              "    }\n",
              "  }\n",
              "</style>\n",
              "\n",
              "  <script>\n",
              "    async function quickchart(key) {\n",
              "      const quickchartButtonEl =\n",
              "        document.querySelector('#' + key + ' button');\n",
              "      quickchartButtonEl.disabled = true;  // To prevent multiple clicks.\n",
              "      quickchartButtonEl.classList.add('colab-df-spinner');\n",
              "      try {\n",
              "        const charts = await google.colab.kernel.invokeFunction(\n",
              "            'suggestCharts', [key], {});\n",
              "      } catch (error) {\n",
              "        console.error('Error during call to suggestCharts:', error);\n",
              "      }\n",
              "      quickchartButtonEl.classList.remove('colab-df-spinner');\n",
              "      quickchartButtonEl.classList.add('colab-df-quickchart-complete');\n",
              "    }\n",
              "    (() => {\n",
              "      let quickchartButtonEl =\n",
              "        document.querySelector('#df-b496d24a-c59e-4dc8-93e7-811a15d6442b button');\n",
              "      quickchartButtonEl.style.display =\n",
              "        google.colab.kernel.accessAllowed ? 'block' : 'none';\n",
              "    })();\n",
              "  </script>\n",
              "</div>\n",
              "\n",
              "    </div>\n",
              "  </div>\n"
            ],
            "application/vnd.google.colaboratory.intrinsic+json": {
              "type": "dataframe",
              "variable_name": "data",
              "summary": "{\n  \"name\": \"data\",\n  \"rows\": 1470,\n  \"fields\": [\n    {\n      \"column\": \"Age\",\n      \"properties\": {\n        \"dtype\": \"number\",\n        \"std\": 9,\n        \"min\": 18,\n        \"max\": 60,\n        \"num_unique_values\": 43,\n        \"samples\": [\n          58,\n          47,\n          24\n        ],\n        \"semantic_type\": \"\",\n        \"description\": \"\"\n      }\n    },\n    {\n      \"column\": \"PastEmployee\",\n      \"properties\": {\n        \"dtype\": \"category\",\n        \"num_unique_values\": 2,\n        \"samples\": [\n          \"Yes\",\n          \"No\"\n        ],\n        \"semantic_type\": \"\",\n        \"description\": \"\"\n      }\n    },\n    {\n      \"column\": \"BusinessTravel\",\n      \"properties\": {\n        \"dtype\": \"category\",\n        \"num_unique_values\": 3,\n        \"samples\": [\n          \"Travel_Rarely\",\n          \"Non-Travel\"\n        ],\n        \"semantic_type\": \"\",\n        \"description\": \"\"\n      }\n    },\n    {\n      \"column\": \"Department\",\n      \"properties\": {\n        \"dtype\": \"category\",\n        \"num_unique_values\": 3,\n        \"samples\": [\n          \"Human Resources\",\n          \"Research & Development\"\n        ],\n        \"semantic_type\": \"\",\n        \"description\": \"\"\n      }\n    },\n    {\n      \"column\": \"DistanceFromHome\",\n      \"properties\": {\n        \"dtype\": \"number\",\n        \"std\": 8,\n        \"min\": 1,\n        \"max\": 29,\n        \"num_unique_values\": 29,\n        \"samples\": [\n          14,\n          22\n        ],\n        \"semantic_type\": \"\",\n        \"description\": \"\"\n      }\n    },\n    {\n      \"column\": \"EducationField\",\n      \"properties\": {\n        \"dtype\": \"category\",\n        \"num_unique_values\": 6,\n        \"samples\": [\n          \"Medical\",\n          \"Human Resources\"\n        ],\n        \"semantic_type\": \"\",\n        \"description\": \"\"\n      }\n    },\n    {\n      \"column\": \"EnvironmentSatisfaction\",\n      \"properties\": {\n        \"dtype\": \"number\",\n        \"std\": 1,\n        \"min\": 1,\n        \"max\": 4,\n        \"num_unique_values\": 4,\n        \"samples\": [\n          3,\n          1\n        ],\n        \"semantic_type\": \"\",\n        \"description\": \"\"\n      }\n    },\n    {\n      \"column\": \"Gender\",\n      \"properties\": {\n        \"dtype\": \"category\",\n        \"num_unique_values\": 2,\n        \"samples\": [\n          \"Female\",\n          \"Male\"\n        ],\n        \"semantic_type\": \"\",\n        \"description\": \"\"\n      }\n    },\n    {\n      \"column\": \"JobRole\",\n      \"properties\": {\n        \"dtype\": \"category\",\n        \"num_unique_values\": 9,\n        \"samples\": [\n          \"Sales Executive\",\n          \"Manager\"\n        ],\n        \"semantic_type\": \"\",\n        \"description\": \"\"\n      }\n    },\n    {\n      \"column\": \"MaritalStatus\",\n      \"properties\": {\n        \"dtype\": \"category\",\n        \"num_unique_values\": 3,\n        \"samples\": [\n          \"Divorced\",\n          \"Married\"\n        ],\n        \"semantic_type\": \"\",\n        \"description\": \"\"\n      }\n    },\n    {\n      \"column\": \"MonthlyIncome\",\n      \"properties\": {\n        \"dtype\": \"number\",\n        \"std\": 4707,\n        \"min\": 1009,\n        \"max\": 19999,\n        \"num_unique_values\": 1349,\n        \"samples\": [\n          4869,\n          4736\n        ],\n        \"semantic_type\": \"\",\n        \"description\": \"\"\n      }\n    },\n    {\n      \"column\": \"NumCompaniesWorked\",\n      \"properties\": {\n        \"dtype\": \"number\",\n        \"std\": 2,\n        \"min\": 0,\n        \"max\": 9,\n        \"num_unique_values\": 10,\n        \"samples\": [\n          6,\n          4\n        ],\n        \"semantic_type\": \"\",\n        \"description\": \"\"\n      }\n    },\n    {\n      \"column\": \"OverTime\",\n      \"properties\": {\n        \"dtype\": \"category\",\n        \"num_unique_values\": 2,\n        \"samples\": [\n          \"No\",\n          \"Yes\"\n        ],\n        \"semantic_type\": \"\",\n        \"description\": \"\"\n      }\n    }\n  ]\n}"
            }
          },
          "metadata": {},
          "execution_count": 4
        }
      ]
    },
    {
      "cell_type": "code",
      "source": [
        "data.describe()"
      ],
      "metadata": {
        "collapsed": true,
        "colab": {
          "base_uri": "https://localhost:8080/",
          "height": 300
        },
        "id": "37o6p4NcOBNf",
        "outputId": "e38706a0-20f1-4e89-c931-f513df6cd4fd"
      },
      "execution_count": null,
      "outputs": [
        {
          "output_type": "execute_result",
          "data": {
            "text/plain": [
              "               Age  DistanceFromHome  EnvironmentSatisfaction  MonthlyIncome  \\\n",
              "count  1470.000000       1470.000000              1470.000000    1470.000000   \n",
              "mean     36.923810          9.192517                 2.721769    6502.931293   \n",
              "std       9.135373          8.106864                 1.093082    4707.956783   \n",
              "min      18.000000          1.000000                 1.000000    1009.000000   \n",
              "25%      30.000000          2.000000                 2.000000    2911.000000   \n",
              "50%      36.000000          7.000000                 3.000000    4919.000000   \n",
              "75%      43.000000         14.000000                 4.000000    8379.000000   \n",
              "max      60.000000         29.000000                 4.000000   19999.000000   \n",
              "\n",
              "       NumCompaniesWorked  \n",
              "count         1470.000000  \n",
              "mean             2.693197  \n",
              "std              2.498009  \n",
              "min              0.000000  \n",
              "25%              1.000000  \n",
              "50%              2.000000  \n",
              "75%              4.000000  \n",
              "max              9.000000  "
            ],
            "text/html": [
              "\n",
              "  <div id=\"df-98c414a3-5aac-4e92-82e3-c404fee0eb6a\" class=\"colab-df-container\">\n",
              "    <div>\n",
              "<style scoped>\n",
              "    .dataframe tbody tr th:only-of-type {\n",
              "        vertical-align: middle;\n",
              "    }\n",
              "\n",
              "    .dataframe tbody tr th {\n",
              "        vertical-align: top;\n",
              "    }\n",
              "\n",
              "    .dataframe thead th {\n",
              "        text-align: right;\n",
              "    }\n",
              "</style>\n",
              "<table border=\"1\" class=\"dataframe\">\n",
              "  <thead>\n",
              "    <tr style=\"text-align: right;\">\n",
              "      <th></th>\n",
              "      <th>Age</th>\n",
              "      <th>DistanceFromHome</th>\n",
              "      <th>EnvironmentSatisfaction</th>\n",
              "      <th>MonthlyIncome</th>\n",
              "      <th>NumCompaniesWorked</th>\n",
              "    </tr>\n",
              "  </thead>\n",
              "  <tbody>\n",
              "    <tr>\n",
              "      <th>count</th>\n",
              "      <td>1470.000000</td>\n",
              "      <td>1470.000000</td>\n",
              "      <td>1470.000000</td>\n",
              "      <td>1470.000000</td>\n",
              "      <td>1470.000000</td>\n",
              "    </tr>\n",
              "    <tr>\n",
              "      <th>mean</th>\n",
              "      <td>36.923810</td>\n",
              "      <td>9.192517</td>\n",
              "      <td>2.721769</td>\n",
              "      <td>6502.931293</td>\n",
              "      <td>2.693197</td>\n",
              "    </tr>\n",
              "    <tr>\n",
              "      <th>std</th>\n",
              "      <td>9.135373</td>\n",
              "      <td>8.106864</td>\n",
              "      <td>1.093082</td>\n",
              "      <td>4707.956783</td>\n",
              "      <td>2.498009</td>\n",
              "    </tr>\n",
              "    <tr>\n",
              "      <th>min</th>\n",
              "      <td>18.000000</td>\n",
              "      <td>1.000000</td>\n",
              "      <td>1.000000</td>\n",
              "      <td>1009.000000</td>\n",
              "      <td>0.000000</td>\n",
              "    </tr>\n",
              "    <tr>\n",
              "      <th>25%</th>\n",
              "      <td>30.000000</td>\n",
              "      <td>2.000000</td>\n",
              "      <td>2.000000</td>\n",
              "      <td>2911.000000</td>\n",
              "      <td>1.000000</td>\n",
              "    </tr>\n",
              "    <tr>\n",
              "      <th>50%</th>\n",
              "      <td>36.000000</td>\n",
              "      <td>7.000000</td>\n",
              "      <td>3.000000</td>\n",
              "      <td>4919.000000</td>\n",
              "      <td>2.000000</td>\n",
              "    </tr>\n",
              "    <tr>\n",
              "      <th>75%</th>\n",
              "      <td>43.000000</td>\n",
              "      <td>14.000000</td>\n",
              "      <td>4.000000</td>\n",
              "      <td>8379.000000</td>\n",
              "      <td>4.000000</td>\n",
              "    </tr>\n",
              "    <tr>\n",
              "      <th>max</th>\n",
              "      <td>60.000000</td>\n",
              "      <td>29.000000</td>\n",
              "      <td>4.000000</td>\n",
              "      <td>19999.000000</td>\n",
              "      <td>9.000000</td>\n",
              "    </tr>\n",
              "  </tbody>\n",
              "</table>\n",
              "</div>\n",
              "    <div class=\"colab-df-buttons\">\n",
              "\n",
              "  <div class=\"colab-df-container\">\n",
              "    <button class=\"colab-df-convert\" onclick=\"convertToInteractive('df-98c414a3-5aac-4e92-82e3-c404fee0eb6a')\"\n",
              "            title=\"Convert this dataframe to an interactive table.\"\n",
              "            style=\"display:none;\">\n",
              "\n",
              "  <svg xmlns=\"http://www.w3.org/2000/svg\" height=\"24px\" viewBox=\"0 -960 960 960\">\n",
              "    <path d=\"M120-120v-720h720v720H120Zm60-500h600v-160H180v160Zm220 220h160v-160H400v160Zm0 220h160v-160H400v160ZM180-400h160v-160H180v160Zm440 0h160v-160H620v160ZM180-180h160v-160H180v160Zm440 0h160v-160H620v160Z\"/>\n",
              "  </svg>\n",
              "    </button>\n",
              "\n",
              "  <style>\n",
              "    .colab-df-container {\n",
              "      display:flex;\n",
              "      gap: 12px;\n",
              "    }\n",
              "\n",
              "    .colab-df-convert {\n",
              "      background-color: #E8F0FE;\n",
              "      border: none;\n",
              "      border-radius: 50%;\n",
              "      cursor: pointer;\n",
              "      display: none;\n",
              "      fill: #1967D2;\n",
              "      height: 32px;\n",
              "      padding: 0 0 0 0;\n",
              "      width: 32px;\n",
              "    }\n",
              "\n",
              "    .colab-df-convert:hover {\n",
              "      background-color: #E2EBFA;\n",
              "      box-shadow: 0px 1px 2px rgba(60, 64, 67, 0.3), 0px 1px 3px 1px rgba(60, 64, 67, 0.15);\n",
              "      fill: #174EA6;\n",
              "    }\n",
              "\n",
              "    .colab-df-buttons div {\n",
              "      margin-bottom: 4px;\n",
              "    }\n",
              "\n",
              "    [theme=dark] .colab-df-convert {\n",
              "      background-color: #3B4455;\n",
              "      fill: #D2E3FC;\n",
              "    }\n",
              "\n",
              "    [theme=dark] .colab-df-convert:hover {\n",
              "      background-color: #434B5C;\n",
              "      box-shadow: 0px 1px 3px 1px rgba(0, 0, 0, 0.15);\n",
              "      filter: drop-shadow(0px 1px 2px rgba(0, 0, 0, 0.3));\n",
              "      fill: #FFFFFF;\n",
              "    }\n",
              "  </style>\n",
              "\n",
              "    <script>\n",
              "      const buttonEl =\n",
              "        document.querySelector('#df-98c414a3-5aac-4e92-82e3-c404fee0eb6a button.colab-df-convert');\n",
              "      buttonEl.style.display =\n",
              "        google.colab.kernel.accessAllowed ? 'block' : 'none';\n",
              "\n",
              "      async function convertToInteractive(key) {\n",
              "        const element = document.querySelector('#df-98c414a3-5aac-4e92-82e3-c404fee0eb6a');\n",
              "        const dataTable =\n",
              "          await google.colab.kernel.invokeFunction('convertToInteractive',\n",
              "                                                    [key], {});\n",
              "        if (!dataTable) return;\n",
              "\n",
              "        const docLinkHtml = 'Like what you see? Visit the ' +\n",
              "          '<a target=\"_blank\" href=https://colab.research.google.com/notebooks/data_table.ipynb>data table notebook</a>'\n",
              "          + ' to learn more about interactive tables.';\n",
              "        element.innerHTML = '';\n",
              "        dataTable['output_type'] = 'display_data';\n",
              "        await google.colab.output.renderOutput(dataTable, element);\n",
              "        const docLink = document.createElement('div');\n",
              "        docLink.innerHTML = docLinkHtml;\n",
              "        element.appendChild(docLink);\n",
              "      }\n",
              "    </script>\n",
              "  </div>\n",
              "\n",
              "\n",
              "<div id=\"df-8d0b87b4-3a65-4dbe-915d-c1455d552252\">\n",
              "  <button class=\"colab-df-quickchart\" onclick=\"quickchart('df-8d0b87b4-3a65-4dbe-915d-c1455d552252')\"\n",
              "            title=\"Suggest charts\"\n",
              "            style=\"display:none;\">\n",
              "\n",
              "<svg xmlns=\"http://www.w3.org/2000/svg\" height=\"24px\"viewBox=\"0 0 24 24\"\n",
              "     width=\"24px\">\n",
              "    <g>\n",
              "        <path d=\"M19 3H5c-1.1 0-2 .9-2 2v14c0 1.1.9 2 2 2h14c1.1 0 2-.9 2-2V5c0-1.1-.9-2-2-2zM9 17H7v-7h2v7zm4 0h-2V7h2v10zm4 0h-2v-4h2v4z\"/>\n",
              "    </g>\n",
              "</svg>\n",
              "  </button>\n",
              "\n",
              "<style>\n",
              "  .colab-df-quickchart {\n",
              "      --bg-color: #E8F0FE;\n",
              "      --fill-color: #1967D2;\n",
              "      --hover-bg-color: #E2EBFA;\n",
              "      --hover-fill-color: #174EA6;\n",
              "      --disabled-fill-color: #AAA;\n",
              "      --disabled-bg-color: #DDD;\n",
              "  }\n",
              "\n",
              "  [theme=dark] .colab-df-quickchart {\n",
              "      --bg-color: #3B4455;\n",
              "      --fill-color: #D2E3FC;\n",
              "      --hover-bg-color: #434B5C;\n",
              "      --hover-fill-color: #FFFFFF;\n",
              "      --disabled-bg-color: #3B4455;\n",
              "      --disabled-fill-color: #666;\n",
              "  }\n",
              "\n",
              "  .colab-df-quickchart {\n",
              "    background-color: var(--bg-color);\n",
              "    border: none;\n",
              "    border-radius: 50%;\n",
              "    cursor: pointer;\n",
              "    display: none;\n",
              "    fill: var(--fill-color);\n",
              "    height: 32px;\n",
              "    padding: 0;\n",
              "    width: 32px;\n",
              "  }\n",
              "\n",
              "  .colab-df-quickchart:hover {\n",
              "    background-color: var(--hover-bg-color);\n",
              "    box-shadow: 0 1px 2px rgba(60, 64, 67, 0.3), 0 1px 3px 1px rgba(60, 64, 67, 0.15);\n",
              "    fill: var(--button-hover-fill-color);\n",
              "  }\n",
              "\n",
              "  .colab-df-quickchart-complete:disabled,\n",
              "  .colab-df-quickchart-complete:disabled:hover {\n",
              "    background-color: var(--disabled-bg-color);\n",
              "    fill: var(--disabled-fill-color);\n",
              "    box-shadow: none;\n",
              "  }\n",
              "\n",
              "  .colab-df-spinner {\n",
              "    border: 2px solid var(--fill-color);\n",
              "    border-color: transparent;\n",
              "    border-bottom-color: var(--fill-color);\n",
              "    animation:\n",
              "      spin 1s steps(1) infinite;\n",
              "  }\n",
              "\n",
              "  @keyframes spin {\n",
              "    0% {\n",
              "      border-color: transparent;\n",
              "      border-bottom-color: var(--fill-color);\n",
              "      border-left-color: var(--fill-color);\n",
              "    }\n",
              "    20% {\n",
              "      border-color: transparent;\n",
              "      border-left-color: var(--fill-color);\n",
              "      border-top-color: var(--fill-color);\n",
              "    }\n",
              "    30% {\n",
              "      border-color: transparent;\n",
              "      border-left-color: var(--fill-color);\n",
              "      border-top-color: var(--fill-color);\n",
              "      border-right-color: var(--fill-color);\n",
              "    }\n",
              "    40% {\n",
              "      border-color: transparent;\n",
              "      border-right-color: var(--fill-color);\n",
              "      border-top-color: var(--fill-color);\n",
              "    }\n",
              "    60% {\n",
              "      border-color: transparent;\n",
              "      border-right-color: var(--fill-color);\n",
              "    }\n",
              "    80% {\n",
              "      border-color: transparent;\n",
              "      border-right-color: var(--fill-color);\n",
              "      border-bottom-color: var(--fill-color);\n",
              "    }\n",
              "    90% {\n",
              "      border-color: transparent;\n",
              "      border-bottom-color: var(--fill-color);\n",
              "    }\n",
              "  }\n",
              "</style>\n",
              "\n",
              "  <script>\n",
              "    async function quickchart(key) {\n",
              "      const quickchartButtonEl =\n",
              "        document.querySelector('#' + key + ' button');\n",
              "      quickchartButtonEl.disabled = true;  // To prevent multiple clicks.\n",
              "      quickchartButtonEl.classList.add('colab-df-spinner');\n",
              "      try {\n",
              "        const charts = await google.colab.kernel.invokeFunction(\n",
              "            'suggestCharts', [key], {});\n",
              "      } catch (error) {\n",
              "        console.error('Error during call to suggestCharts:', error);\n",
              "      }\n",
              "      quickchartButtonEl.classList.remove('colab-df-spinner');\n",
              "      quickchartButtonEl.classList.add('colab-df-quickchart-complete');\n",
              "    }\n",
              "    (() => {\n",
              "      let quickchartButtonEl =\n",
              "        document.querySelector('#df-8d0b87b4-3a65-4dbe-915d-c1455d552252 button');\n",
              "      quickchartButtonEl.style.display =\n",
              "        google.colab.kernel.accessAllowed ? 'block' : 'none';\n",
              "    })();\n",
              "  </script>\n",
              "</div>\n",
              "\n",
              "    </div>\n",
              "  </div>\n"
            ],
            "application/vnd.google.colaboratory.intrinsic+json": {
              "type": "dataframe",
              "summary": "{\n  \"name\": \"data\",\n  \"rows\": 8,\n  \"fields\": [\n    {\n      \"column\": \"Age\",\n      \"properties\": {\n        \"dtype\": \"number\",\n        \"std\": 508.1850759815963,\n        \"min\": 9.135373489136732,\n        \"max\": 1470.0,\n        \"num_unique_values\": 8,\n        \"samples\": [\n          36.923809523809524,\n          36.0,\n          1470.0\n        ],\n        \"semantic_type\": \"\",\n        \"description\": \"\"\n      }\n    },\n    {\n      \"column\": \"DistanceFromHome\",\n      \"properties\": {\n        \"dtype\": \"number\",\n        \"std\": 516.2468886880845,\n        \"min\": 1.0,\n        \"max\": 1470.0,\n        \"num_unique_values\": 8,\n        \"samples\": [\n          9.19251700680272,\n          7.0,\n          1470.0\n        ],\n        \"semantic_type\": \"\",\n        \"description\": \"\"\n      }\n    },\n    {\n      \"column\": \"EnvironmentSatisfaction\",\n      \"properties\": {\n        \"dtype\": \"number\",\n        \"std\": 518.8249737938845,\n        \"min\": 1.0,\n        \"max\": 1470.0,\n        \"num_unique_values\": 7,\n        \"samples\": [\n          1470.0,\n          2.721768707482993,\n          3.0\n        ],\n        \"semantic_type\": \"\",\n        \"description\": \"\"\n      }\n    },\n    {\n      \"column\": \"MonthlyIncome\",\n      \"properties\": {\n        \"dtype\": \"number\",\n        \"std\": 6085.640865018597,\n        \"min\": 1009.0,\n        \"max\": 19999.0,\n        \"num_unique_values\": 8,\n        \"samples\": [\n          6502.931292517007,\n          4919.0,\n          1470.0\n        ],\n        \"semantic_type\": \"\",\n        \"description\": \"\"\n      }\n    },\n    {\n      \"column\": \"NumCompaniesWorked\",\n      \"properties\": {\n        \"dtype\": \"number\",\n        \"std\": 518.6602372112031,\n        \"min\": 0.0,\n        \"max\": 1470.0,\n        \"num_unique_values\": 8,\n        \"samples\": [\n          2.6931972789115646,\n          2.0,\n          1470.0\n        ],\n        \"semantic_type\": \"\",\n        \"description\": \"\"\n      }\n    }\n  ]\n}"
            }
          },
          "metadata": {},
          "execution_count": 5
        }
      ]
    },
    {
      "cell_type": "code",
      "source": [
        "data.info()"
      ],
      "metadata": {
        "colab": {
          "base_uri": "https://localhost:8080/"
        },
        "collapsed": true,
        "id": "H-KijfnNOFTw",
        "outputId": "d6d703c1-31f1-417f-87b2-40fbf000c533"
      },
      "execution_count": null,
      "outputs": [
        {
          "output_type": "stream",
          "name": "stdout",
          "text": [
            "<class 'pandas.core.frame.DataFrame'>\n",
            "RangeIndex: 1470 entries, 0 to 1469\n",
            "Data columns (total 13 columns):\n",
            " #   Column                   Non-Null Count  Dtype \n",
            "---  ------                   --------------  ----- \n",
            " 0   Age                      1470 non-null   int64 \n",
            " 1   PastEmployee             1470 non-null   object\n",
            " 2   BusinessTravel           1470 non-null   object\n",
            " 3   Department               1470 non-null   object\n",
            " 4   DistanceFromHome         1470 non-null   int64 \n",
            " 5   EducationField           1470 non-null   object\n",
            " 6   EnvironmentSatisfaction  1470 non-null   int64 \n",
            " 7   Gender                   1470 non-null   object\n",
            " 8   JobRole                  1470 non-null   object\n",
            " 9   MaritalStatus            1470 non-null   object\n",
            " 10  MonthlyIncome            1470 non-null   int64 \n",
            " 11  NumCompaniesWorked       1470 non-null   int64 \n",
            " 12  OverTime                 1470 non-null   object\n",
            "dtypes: int64(5), object(8)\n",
            "memory usage: 149.4+ KB\n"
          ]
        }
      ]
    },
    {
      "cell_type": "markdown",
      "source": [
        "### 1. Data Encoding"
      ],
      "metadata": {
        "id": "hbCStX6lOS_Q"
      }
    },
    {
      "cell_type": "code",
      "source": [
        "#Binary encosing (for 2 entities)\n",
        "data['PastEmployee'] = data['PastEmployee'].map({'Yes':0, 'No': 1})\n",
        "data['Gender'] = data['Gender'].map({'Male': 1, 'Female': 0})\n",
        "data['OverTime'] = data['OverTime'].map({'Yes': 1, 'No': 0})\n",
        "\n",
        "#One-hot encoding - get dummies (for 3 or more entities)\n",
        "data2 = get_dummies(data, columns = ['BusinessTravel', 'Department', 'EducationField', 'JobRole', 'MaritalStatus'])\n",
        "\n",
        "data2.info()"
      ],
      "metadata": {
        "colab": {
          "base_uri": "https://localhost:8080/"
        },
        "collapsed": true,
        "id": "UrNtgVHQOWPm",
        "outputId": "6941c576-37a9-47e2-b33e-d57dda58e478"
      },
      "execution_count": null,
      "outputs": [
        {
          "output_type": "stream",
          "name": "stdout",
          "text": [
            "<class 'pandas.core.frame.DataFrame'>\n",
            "RangeIndex: 1470 entries, 0 to 1469\n",
            "Data columns (total 32 columns):\n",
            " #   Column                             Non-Null Count  Dtype\n",
            "---  ------                             --------------  -----\n",
            " 0   Age                                1470 non-null   int64\n",
            " 1   PastEmployee                       1470 non-null   int64\n",
            " 2   DistanceFromHome                   1470 non-null   int64\n",
            " 3   EnvironmentSatisfaction            1470 non-null   int64\n",
            " 4   Gender                             1470 non-null   int64\n",
            " 5   MonthlyIncome                      1470 non-null   int64\n",
            " 6   NumCompaniesWorked                 1470 non-null   int64\n",
            " 7   OverTime                           1470 non-null   int64\n",
            " 8   BusinessTravel_Non-Travel          1470 non-null   bool \n",
            " 9   BusinessTravel_Travel_Frequently   1470 non-null   bool \n",
            " 10  BusinessTravel_Travel_Rarely       1470 non-null   bool \n",
            " 11  Department_Human Resources         1470 non-null   bool \n",
            " 12  Department_Research & Development  1470 non-null   bool \n",
            " 13  Department_Sales                   1470 non-null   bool \n",
            " 14  EducationField_Human Resources     1470 non-null   bool \n",
            " 15  EducationField_Life Sciences       1470 non-null   bool \n",
            " 16  EducationField_Marketing           1470 non-null   bool \n",
            " 17  EducationField_Medical             1470 non-null   bool \n",
            " 18  EducationField_Other               1470 non-null   bool \n",
            " 19  EducationField_Technical Degree    1470 non-null   bool \n",
            " 20  JobRole_Healthcare Representative  1470 non-null   bool \n",
            " 21  JobRole_Human Resources            1470 non-null   bool \n",
            " 22  JobRole_Laboratory Technician      1470 non-null   bool \n",
            " 23  JobRole_Manager                    1470 non-null   bool \n",
            " 24  JobRole_Manufacturing Director     1470 non-null   bool \n",
            " 25  JobRole_Research Director          1470 non-null   bool \n",
            " 26  JobRole_Research Scientist         1470 non-null   bool \n",
            " 27  JobRole_Sales Executive            1470 non-null   bool \n",
            " 28  JobRole_Sales Representative       1470 non-null   bool \n",
            " 29  MaritalStatus_Divorced             1470 non-null   bool \n",
            " 30  MaritalStatus_Married              1470 non-null   bool \n",
            " 31  MaritalStatus_Single               1470 non-null   bool \n",
            "dtypes: bool(24), int64(8)\n",
            "memory usage: 126.5 KB\n"
          ]
        }
      ]
    },
    {
      "cell_type": "markdown",
      "source": [
        "###2. Dividing (X & Y) - seperatingg output"
      ],
      "metadata": {
        "id": "VT0thCFtUEiH"
      }
    },
    {
      "cell_type": "code",
      "source": [
        "#Dropping output feature\n",
        "X = data2.drop('PastEmployee', axis = 1)\n",
        "Y = data2['PastEmployee']\n",
        "\n",
        "print('Rows and Columns of X: ', X.shape)\n",
        "print('Rows and columns of Y: ', Y.shape)"
      ],
      "metadata": {
        "colab": {
          "base_uri": "https://localhost:8080/"
        },
        "id": "50qBmuwEUQhv",
        "outputId": "47935d58-4017-41ea-e965-e55577d44f07"
      },
      "execution_count": null,
      "outputs": [
        {
          "output_type": "stream",
          "name": "stdout",
          "text": [
            "Rows and Columns of X:  (1470, 31)\n",
            "Rows and columns of Y:  (1470,)\n"
          ]
        }
      ]
    },
    {
      "cell_type": "markdown",
      "source": [
        "### 3. Data Scaling"
      ],
      "metadata": {
        "id": "hJ9x_ulAU-zk"
      }
    },
    {
      "cell_type": "code",
      "source": [
        "#importing standard scalar form sklearn preprocessing library\n",
        "X_scaled = StandardScaler().fit_transform(X)"
      ],
      "metadata": {
        "id": "hY_XOJFvViQ_"
      },
      "execution_count": null,
      "outputs": []
    },
    {
      "cell_type": "markdown",
      "source": [
        "###4. Data Splitting (to x_train, x_test, y_train, y_test)"
      ],
      "metadata": {
        "id": "lEm8vSJ6WXdl"
      }
    },
    {
      "cell_type": "code",
      "source": [
        "#importing test_train_split from sklearn.modelselection library\n",
        "X_train, X_test, Y_train, Y_test = train_test_split(X_scaled, Y, test_size = 0.2, random_state = 100)  #setting Test set as 20%\n"
      ],
      "metadata": {
        "id": "8eH9kkmRWhDl"
      },
      "execution_count": null,
      "outputs": []
    },
    {
      "cell_type": "markdown",
      "source": [
        "###5. Data Balancing  - SMOTE"
      ],
      "metadata": {
        "id": "hYRA6WyGXC6x"
      }
    },
    {
      "cell_type": "code",
      "source": [
        "#importing SMOTE from imblearn library\n",
        "X_train, Y_train = SMOTE(random_state = 10).fit_resample(X_train, Y_train)"
      ],
      "metadata": {
        "id": "Z6DjdWyVXHMG"
      },
      "execution_count": null,
      "outputs": []
    },
    {
      "cell_type": "code",
      "source": [
        "print(X_train.shape)\n",
        "print(Y_train.shape)"
      ],
      "metadata": {
        "colab": {
          "base_uri": "https://localhost:8080/"
        },
        "id": "ctds8tPdYGyu",
        "outputId": "d5a19252-90a5-45db-f139-21164def47cb"
      },
      "execution_count": null,
      "outputs": [
        {
          "output_type": "stream",
          "name": "stdout",
          "text": [
            "(1974, 31)\n",
            "(1974,)\n"
          ]
        }
      ]
    },
    {
      "cell_type": "markdown",
      "source": [
        "## 1. Decision Tree Classifier"
      ],
      "metadata": {
        "id": "eA5oEGvXZEg_"
      }
    },
    {
      "cell_type": "markdown",
      "source": [
        "#### a. Using Method 2 (Gridsearch CV) first - toget the Max depth"
      ],
      "metadata": {
        "id": "woQaM2dqZNGD"
      }
    },
    {
      "cell_type": "code",
      "source": [
        "#Import library - from sklearn.model_selection import GridSearchCV\n",
        "\n",
        "DT_classifier2 = DecisionTreeClassifier(criterion = 'entropy')      #building the DT classifier\n",
        "depth = {'max_depth': [5, 2, 3, 4, 5, 10, 15, 18, 20, 22, 25, 27, 29, 31]}\n",
        "\n",
        "grid_search_DT = GridSearchCV(estimator = DT_classifier2, param_grid = depth, scoring = 'precision', cv =  10)  #building\n",
        "grid_search_DT.fit(X_scaled, Y)    #training, testing, evaluation & ranking\n",
        "\n",
        "DT_best_parameters = grid_search_DT.best_params_\n",
        "print(DT_best_parameters)\n",
        "DT_best_result = grid_search_DT.best_score_\n",
        "print('Best Result is:', round(DT_best_result,4))"
      ],
      "metadata": {
        "colab": {
          "base_uri": "https://localhost:8080/"
        },
        "id": "4Cnkdvdx3IrC",
        "outputId": "25b5ec56-dc26-4ce6-a61a-6387653c1683"
      },
      "execution_count": null,
      "outputs": [
        {
          "output_type": "stream",
          "name": "stdout",
          "text": [
            "{'max_depth': 22}\n",
            "Best Result is: 0.8798\n"
          ]
        }
      ]
    },
    {
      "cell_type": "markdown",
      "source": [
        "####b. Now using Method 1, as we have the max_depth (hyperparameter)"
      ],
      "metadata": {
        "id": "l1tdNk5c9f82"
      }
    },
    {
      "cell_type": "code",
      "source": [
        "#import library - from sklearn.tree import DecisionTreeClassifier\n",
        "#import library - from sklearn import metrics  - for Accuracy & Confusion Matrix\n",
        "\n",
        "DT_classifier1 = DecisionTreeClassifier(criterion = 'entropy', max_depth = 10)     # 1. building Cclassifier using the correct max_depth\n",
        "DT_classifier1.fit(X_train, Y_train)   # 2. training\n",
        "Y_pred1 = DT_classifier1.predict(X_test)    # 3. Testing\n",
        "\n",
        "# 4. Evaluation        #Confusion Matrix\n",
        "Accuracy_DT = metrics.accuracy_score(Y_test, Y_pred1)      #Calculating Accuracy\n",
        "print('Decision Tree Accuracy is: ', round(Accuracy_DT,4))\n",
        "\n",
        "conf_matrix_DT = metrics.confusion_matrix(Y_test, Y_pred1)   #Calculating Confusion Matrix\n",
        "print('Decision Tree Confusion Matrix is: ')\n",
        "print(conf_matrix_DT)\n",
        "\n",
        "recall_DT = metrics.recall_score(Y_test, Y_pred1)         #Calculating Recall\n",
        "print('Decision Tree Recall is: ', round(recall_DT,4))\n",
        "\n",
        "precision_DT = metrics.precision_score(Y_test, Y_pred1)    #Calculating Precision\n",
        "print('Decision Tree Precision is: ', round(precision_DT,4))\n",
        "\n",
        "f1_DT = metrics.f1_score(Y_test, Y_pred1)               #Calculating f1\n",
        "print('Decision Tree f1 is: ', round(f1_DT,4))\n",
        "\n",
        "#finding out the important features\n",
        "imp_features_DT = Series(DT_classifier1.feature_importances_, index = list(X)).sort_values(ascending = False)\n",
        "print('')\n",
        "print(imp_features_DT)"
      ],
      "metadata": {
        "colab": {
          "base_uri": "https://localhost:8080/"
        },
        "collapsed": true,
        "id": "hvhN7b2O79iD",
        "outputId": "3d733708-9980-425a-a0a0-87a2cbbcadc1"
      },
      "execution_count": null,
      "outputs": [
        {
          "output_type": "stream",
          "name": "stdout",
          "text": [
            "Decision Tree Accuracy is:  0.7653\n",
            "Decision Tree Confusion Matrix is: \n",
            "[[ 20  28]\n",
            " [ 41 205]]\n",
            "Decision Tree Recall is:  0.8333\n",
            "Decision Tree Precision is:  0.8798\n",
            "Decision Tree f1 is:  0.8559\n",
            "\n",
            "OverTime                             0.250251\n",
            "MonthlyIncome                        0.125461\n",
            "EnvironmentSatisfaction              0.120381\n",
            "Age                                  0.100706\n",
            "DistanceFromHome                     0.057879\n",
            "MaritalStatus_Single                 0.055305\n",
            "NumCompaniesWorked                   0.054853\n",
            "Department_Research & Development    0.035329\n",
            "BusinessTravel_Travel_Frequently     0.033615\n",
            "MaritalStatus_Married                0.024413\n",
            "JobRole_Laboratory Technician        0.023372\n",
            "JobRole_Sales Executive              0.022908\n",
            "Gender                               0.017954\n",
            "EducationField_Medical               0.011655\n",
            "EducationField_Life Sciences         0.009522\n",
            "MaritalStatus_Divorced               0.009114\n",
            "JobRole_Manufacturing Director       0.008450\n",
            "EducationField_Technical Degree      0.008024\n",
            "BusinessTravel_Travel_Rarely         0.007968\n",
            "EducationField_Marketing             0.006437\n",
            "EducationField_Other                 0.003950\n",
            "JobRole_Sales Representative         0.003595\n",
            "EducationField_Human Resources       0.002873\n",
            "BusinessTravel_Non-Travel            0.002542\n",
            "JobRole_Healthcare Representative    0.001961\n",
            "Department_Sales                     0.001481\n",
            "Department_Human Resources           0.000000\n",
            "JobRole_Manager                      0.000000\n",
            "JobRole_Human Resources              0.000000\n",
            "JobRole_Research Scientist           0.000000\n",
            "JobRole_Research Director            0.000000\n",
            "dtype: float64\n"
          ]
        }
      ]
    },
    {
      "cell_type": "markdown",
      "source": [
        "## 2. Random Forest Classifier"
      ],
      "metadata": {
        "id": "vw-t6ZnYJYyS"
      }
    },
    {
      "cell_type": "markdown",
      "source": [
        "####a. Using method 3 first - Pipeline - To get n_estimators (HYperparameter)"
      ],
      "metadata": {
        "id": "nMY2r40mMnQE"
      }
    },
    {
      "cell_type": "code",
      "source": [
        "#Using method 3 - pipeline & Gridsearch CV\n",
        "#building the classifier\n",
        "RF_classifier2 = Pipeline([('balancing', SMOTE(random_state = 101)), ('classification', RandomForestClassifier(criterion = 'entropy', max_features = 'sqrt', random_state = 1))])\n",
        "no_trees = {'classification of n_estimators is': [10,20,30,40,50,100]}\n",
        "\n",
        "grid_search_RF = GridSearchCV(estimator = RF_classifier2, param_grid = no_trees, scoring = 'precision', cv = 5)\n",
        "grid_search_RF.fit(X_scaled, Y)\n",
        "\n",
        "RF_best_parameters = grid_search_RF.best_params_\n",
        "print(RF_best_parameters)\n",
        "RF_best_result = grid_search_RF.best_score_\n",
        "print('Best Result is:', round(RF_best_result,4))\n"
      ],
      "metadata": {
        "colab": {
          "base_uri": "https://localhost:8080/",
          "height": 391
        },
        "collapsed": true,
        "id": "IH3NgeC9JibY",
        "outputId": "c039c6e4-381f-4fa2-d459-7b4e32a50cc1"
      },
      "execution_count": null,
      "outputs": [
        {
          "output_type": "error",
          "ename": "ValueError",
          "evalue": "Invalid parameter 'classification of n_estimators is' for estimator Pipeline(steps=[('balancing', SMOTE(random_state=101)),\n                ('classification',\n                 RandomForestClassifier(criterion='entropy', random_state=1))]). Valid parameters are: ['memory', 'steps', 'transform_input', 'verbose'].",
          "traceback": [
            "\u001b[0;31m---------------------------------------------------------------------------\u001b[0m",
            "\u001b[0;31mValueError\u001b[0m                                Traceback (most recent call last)",
            "\u001b[0;32m<ipython-input-15-9775cd8038c2>\u001b[0m in \u001b[0;36m<cell line: 0>\u001b[0;34m()\u001b[0m\n\u001b[1;32m      5\u001b[0m \u001b[0;34m\u001b[0m\u001b[0m\n\u001b[1;32m      6\u001b[0m \u001b[0mgrid_search_RF\u001b[0m \u001b[0;34m=\u001b[0m \u001b[0mGridSearchCV\u001b[0m\u001b[0;34m(\u001b[0m\u001b[0mestimator\u001b[0m \u001b[0;34m=\u001b[0m \u001b[0mRF_classifier2\u001b[0m\u001b[0;34m,\u001b[0m \u001b[0mparam_grid\u001b[0m \u001b[0;34m=\u001b[0m \u001b[0mno_trees\u001b[0m\u001b[0;34m,\u001b[0m \u001b[0mscoring\u001b[0m \u001b[0;34m=\u001b[0m \u001b[0;34m'precision'\u001b[0m\u001b[0;34m,\u001b[0m \u001b[0mcv\u001b[0m \u001b[0;34m=\u001b[0m \u001b[0;36m5\u001b[0m\u001b[0;34m)\u001b[0m\u001b[0;34m\u001b[0m\u001b[0;34m\u001b[0m\u001b[0m\n\u001b[0;32m----> 7\u001b[0;31m \u001b[0mgrid_search_RF\u001b[0m\u001b[0;34m.\u001b[0m\u001b[0mfit\u001b[0m\u001b[0;34m(\u001b[0m\u001b[0mX_scaled\u001b[0m\u001b[0;34m,\u001b[0m \u001b[0mY\u001b[0m\u001b[0;34m)\u001b[0m\u001b[0;34m\u001b[0m\u001b[0;34m\u001b[0m\u001b[0m\n\u001b[0m\u001b[1;32m      8\u001b[0m \u001b[0;34m\u001b[0m\u001b[0m\n\u001b[1;32m      9\u001b[0m \u001b[0mRF_best_parameters\u001b[0m \u001b[0;34m=\u001b[0m \u001b[0mgrid_search_RF\u001b[0m\u001b[0;34m.\u001b[0m\u001b[0mbest_params_\u001b[0m\u001b[0;34m\u001b[0m\u001b[0;34m\u001b[0m\u001b[0m\n",
            "\u001b[0;32m/usr/local/lib/python3.11/dist-packages/sklearn/base.py\u001b[0m in \u001b[0;36mwrapper\u001b[0;34m(estimator, *args, **kwargs)\u001b[0m\n\u001b[1;32m   1387\u001b[0m                 )\n\u001b[1;32m   1388\u001b[0m             ):\n\u001b[0;32m-> 1389\u001b[0;31m                 \u001b[0;32mreturn\u001b[0m \u001b[0mfit_method\u001b[0m\u001b[0;34m(\u001b[0m\u001b[0mestimator\u001b[0m\u001b[0;34m,\u001b[0m \u001b[0;34m*\u001b[0m\u001b[0margs\u001b[0m\u001b[0;34m,\u001b[0m \u001b[0;34m**\u001b[0m\u001b[0mkwargs\u001b[0m\u001b[0;34m)\u001b[0m\u001b[0;34m\u001b[0m\u001b[0;34m\u001b[0m\u001b[0m\n\u001b[0m\u001b[1;32m   1390\u001b[0m \u001b[0;34m\u001b[0m\u001b[0m\n\u001b[1;32m   1391\u001b[0m         \u001b[0;32mreturn\u001b[0m \u001b[0mwrapper\u001b[0m\u001b[0;34m\u001b[0m\u001b[0;34m\u001b[0m\u001b[0m\n",
            "\u001b[0;32m/usr/local/lib/python3.11/dist-packages/sklearn/model_selection/_search.py\u001b[0m in \u001b[0;36mfit\u001b[0;34m(self, X, y, **params)\u001b[0m\n\u001b[1;32m   1022\u001b[0m                 \u001b[0;32mreturn\u001b[0m \u001b[0mresults\u001b[0m\u001b[0;34m\u001b[0m\u001b[0;34m\u001b[0m\u001b[0m\n\u001b[1;32m   1023\u001b[0m \u001b[0;34m\u001b[0m\u001b[0m\n\u001b[0;32m-> 1024\u001b[0;31m             \u001b[0mself\u001b[0m\u001b[0;34m.\u001b[0m\u001b[0m_run_search\u001b[0m\u001b[0;34m(\u001b[0m\u001b[0mevaluate_candidates\u001b[0m\u001b[0;34m)\u001b[0m\u001b[0;34m\u001b[0m\u001b[0;34m\u001b[0m\u001b[0m\n\u001b[0m\u001b[1;32m   1025\u001b[0m \u001b[0;34m\u001b[0m\u001b[0m\n\u001b[1;32m   1026\u001b[0m             \u001b[0;31m# multimetric is determined here because in the case of a callable\u001b[0m\u001b[0;34m\u001b[0m\u001b[0;34m\u001b[0m\u001b[0m\n",
            "\u001b[0;32m/usr/local/lib/python3.11/dist-packages/sklearn/model_selection/_search.py\u001b[0m in \u001b[0;36m_run_search\u001b[0;34m(self, evaluate_candidates)\u001b[0m\n\u001b[1;32m   1569\u001b[0m     \u001b[0;32mdef\u001b[0m \u001b[0m_run_search\u001b[0m\u001b[0;34m(\u001b[0m\u001b[0mself\u001b[0m\u001b[0;34m,\u001b[0m \u001b[0mevaluate_candidates\u001b[0m\u001b[0;34m)\u001b[0m\u001b[0;34m:\u001b[0m\u001b[0;34m\u001b[0m\u001b[0;34m\u001b[0m\u001b[0m\n\u001b[1;32m   1570\u001b[0m         \u001b[0;34m\"\"\"Search all candidates in param_grid\"\"\"\u001b[0m\u001b[0;34m\u001b[0m\u001b[0;34m\u001b[0m\u001b[0m\n\u001b[0;32m-> 1571\u001b[0;31m         \u001b[0mevaluate_candidates\u001b[0m\u001b[0;34m(\u001b[0m\u001b[0mParameterGrid\u001b[0m\u001b[0;34m(\u001b[0m\u001b[0mself\u001b[0m\u001b[0;34m.\u001b[0m\u001b[0mparam_grid\u001b[0m\u001b[0;34m)\u001b[0m\u001b[0;34m)\u001b[0m\u001b[0;34m\u001b[0m\u001b[0;34m\u001b[0m\u001b[0m\n\u001b[0m\u001b[1;32m   1572\u001b[0m \u001b[0;34m\u001b[0m\u001b[0m\n\u001b[1;32m   1573\u001b[0m \u001b[0;34m\u001b[0m\u001b[0m\n",
            "\u001b[0;32m/usr/local/lib/python3.11/dist-packages/sklearn/model_selection/_search.py\u001b[0m in \u001b[0;36mevaluate_candidates\u001b[0;34m(candidate_params, cv, more_results)\u001b[0m\n\u001b[1;32m    968\u001b[0m                     )\n\u001b[1;32m    969\u001b[0m \u001b[0;34m\u001b[0m\u001b[0m\n\u001b[0;32m--> 970\u001b[0;31m                 out = parallel(\n\u001b[0m\u001b[1;32m    971\u001b[0m                     delayed(_fit_and_score)(\n\u001b[1;32m    972\u001b[0m                         \u001b[0mclone\u001b[0m\u001b[0;34m(\u001b[0m\u001b[0mbase_estimator\u001b[0m\u001b[0;34m)\u001b[0m\u001b[0;34m,\u001b[0m\u001b[0;34m\u001b[0m\u001b[0;34m\u001b[0m\u001b[0m\n",
            "\u001b[0;32m/usr/local/lib/python3.11/dist-packages/sklearn/utils/parallel.py\u001b[0m in \u001b[0;36m__call__\u001b[0;34m(self, iterable)\u001b[0m\n\u001b[1;32m     75\u001b[0m             \u001b[0;32mfor\u001b[0m \u001b[0mdelayed_func\u001b[0m\u001b[0;34m,\u001b[0m \u001b[0margs\u001b[0m\u001b[0;34m,\u001b[0m \u001b[0mkwargs\u001b[0m \u001b[0;32min\u001b[0m \u001b[0miterable\u001b[0m\u001b[0;34m\u001b[0m\u001b[0;34m\u001b[0m\u001b[0m\n\u001b[1;32m     76\u001b[0m         )\n\u001b[0;32m---> 77\u001b[0;31m         \u001b[0;32mreturn\u001b[0m \u001b[0msuper\u001b[0m\u001b[0;34m(\u001b[0m\u001b[0;34m)\u001b[0m\u001b[0;34m.\u001b[0m\u001b[0m__call__\u001b[0m\u001b[0;34m(\u001b[0m\u001b[0miterable_with_config\u001b[0m\u001b[0;34m)\u001b[0m\u001b[0;34m\u001b[0m\u001b[0;34m\u001b[0m\u001b[0m\n\u001b[0m\u001b[1;32m     78\u001b[0m \u001b[0;34m\u001b[0m\u001b[0m\n\u001b[1;32m     79\u001b[0m \u001b[0;34m\u001b[0m\u001b[0m\n",
            "\u001b[0;32m/usr/local/lib/python3.11/dist-packages/joblib/parallel.py\u001b[0m in \u001b[0;36m__call__\u001b[0;34m(self, iterable)\u001b[0m\n\u001b[1;32m   1916\u001b[0m             \u001b[0moutput\u001b[0m \u001b[0;34m=\u001b[0m \u001b[0mself\u001b[0m\u001b[0;34m.\u001b[0m\u001b[0m_get_sequential_output\u001b[0m\u001b[0;34m(\u001b[0m\u001b[0miterable\u001b[0m\u001b[0;34m)\u001b[0m\u001b[0;34m\u001b[0m\u001b[0;34m\u001b[0m\u001b[0m\n\u001b[1;32m   1917\u001b[0m             \u001b[0mnext\u001b[0m\u001b[0;34m(\u001b[0m\u001b[0moutput\u001b[0m\u001b[0;34m)\u001b[0m\u001b[0;34m\u001b[0m\u001b[0;34m\u001b[0m\u001b[0m\n\u001b[0;32m-> 1918\u001b[0;31m             \u001b[0;32mreturn\u001b[0m \u001b[0moutput\u001b[0m \u001b[0;32mif\u001b[0m \u001b[0mself\u001b[0m\u001b[0;34m.\u001b[0m\u001b[0mreturn_generator\u001b[0m \u001b[0;32melse\u001b[0m \u001b[0mlist\u001b[0m\u001b[0;34m(\u001b[0m\u001b[0moutput\u001b[0m\u001b[0;34m)\u001b[0m\u001b[0;34m\u001b[0m\u001b[0;34m\u001b[0m\u001b[0m\n\u001b[0m\u001b[1;32m   1919\u001b[0m \u001b[0;34m\u001b[0m\u001b[0m\n\u001b[1;32m   1920\u001b[0m         \u001b[0;31m# Let's create an ID that uniquely identifies the current call. If the\u001b[0m\u001b[0;34m\u001b[0m\u001b[0;34m\u001b[0m\u001b[0m\n",
            "\u001b[0;32m/usr/local/lib/python3.11/dist-packages/joblib/parallel.py\u001b[0m in \u001b[0;36m_get_sequential_output\u001b[0;34m(self, iterable)\u001b[0m\n\u001b[1;32m   1845\u001b[0m                 \u001b[0mself\u001b[0m\u001b[0;34m.\u001b[0m\u001b[0mn_dispatched_batches\u001b[0m \u001b[0;34m+=\u001b[0m \u001b[0;36m1\u001b[0m\u001b[0;34m\u001b[0m\u001b[0;34m\u001b[0m\u001b[0m\n\u001b[1;32m   1846\u001b[0m                 \u001b[0mself\u001b[0m\u001b[0;34m.\u001b[0m\u001b[0mn_dispatched_tasks\u001b[0m \u001b[0;34m+=\u001b[0m \u001b[0;36m1\u001b[0m\u001b[0;34m\u001b[0m\u001b[0;34m\u001b[0m\u001b[0m\n\u001b[0;32m-> 1847\u001b[0;31m                 \u001b[0mres\u001b[0m \u001b[0;34m=\u001b[0m \u001b[0mfunc\u001b[0m\u001b[0;34m(\u001b[0m\u001b[0;34m*\u001b[0m\u001b[0margs\u001b[0m\u001b[0;34m,\u001b[0m \u001b[0;34m**\u001b[0m\u001b[0mkwargs\u001b[0m\u001b[0;34m)\u001b[0m\u001b[0;34m\u001b[0m\u001b[0;34m\u001b[0m\u001b[0m\n\u001b[0m\u001b[1;32m   1848\u001b[0m                 \u001b[0mself\u001b[0m\u001b[0;34m.\u001b[0m\u001b[0mn_completed_tasks\u001b[0m \u001b[0;34m+=\u001b[0m \u001b[0;36m1\u001b[0m\u001b[0;34m\u001b[0m\u001b[0;34m\u001b[0m\u001b[0m\n\u001b[1;32m   1849\u001b[0m                 \u001b[0mself\u001b[0m\u001b[0;34m.\u001b[0m\u001b[0mprint_progress\u001b[0m\u001b[0;34m(\u001b[0m\u001b[0;34m)\u001b[0m\u001b[0;34m\u001b[0m\u001b[0;34m\u001b[0m\u001b[0m\n",
            "\u001b[0;32m/usr/local/lib/python3.11/dist-packages/sklearn/utils/parallel.py\u001b[0m in \u001b[0;36m__call__\u001b[0;34m(self, *args, **kwargs)\u001b[0m\n\u001b[1;32m    137\u001b[0m             \u001b[0mconfig\u001b[0m \u001b[0;34m=\u001b[0m \u001b[0;34m{\u001b[0m\u001b[0;34m}\u001b[0m\u001b[0;34m\u001b[0m\u001b[0;34m\u001b[0m\u001b[0m\n\u001b[1;32m    138\u001b[0m         \u001b[0;32mwith\u001b[0m \u001b[0mconfig_context\u001b[0m\u001b[0;34m(\u001b[0m\u001b[0;34m**\u001b[0m\u001b[0mconfig\u001b[0m\u001b[0;34m)\u001b[0m\u001b[0;34m:\u001b[0m\u001b[0;34m\u001b[0m\u001b[0;34m\u001b[0m\u001b[0m\n\u001b[0;32m--> 139\u001b[0;31m             \u001b[0;32mreturn\u001b[0m \u001b[0mself\u001b[0m\u001b[0;34m.\u001b[0m\u001b[0mfunction\u001b[0m\u001b[0;34m(\u001b[0m\u001b[0;34m*\u001b[0m\u001b[0margs\u001b[0m\u001b[0;34m,\u001b[0m \u001b[0;34m**\u001b[0m\u001b[0mkwargs\u001b[0m\u001b[0;34m)\u001b[0m\u001b[0;34m\u001b[0m\u001b[0;34m\u001b[0m\u001b[0m\n\u001b[0m\u001b[1;32m    140\u001b[0m \u001b[0;34m\u001b[0m\u001b[0m\n\u001b[1;32m    141\u001b[0m \u001b[0;34m\u001b[0m\u001b[0m\n",
            "\u001b[0;32m/usr/local/lib/python3.11/dist-packages/sklearn/model_selection/_validation.py\u001b[0m in \u001b[0;36m_fit_and_score\u001b[0;34m(estimator, X, y, scorer, train, test, verbose, parameters, fit_params, score_params, return_train_score, return_parameters, return_n_test_samples, return_times, return_estimator, split_progress, candidate_progress, error_score)\u001b[0m\n\u001b[1;32m    852\u001b[0m         \u001b[0;31m# estimators in a pipeline.\u001b[0m\u001b[0;34m\u001b[0m\u001b[0;34m\u001b[0m\u001b[0m\n\u001b[1;32m    853\u001b[0m         \u001b[0;31m# ref: https://github.com/scikit-learn/scikit-learn/pull/26786\u001b[0m\u001b[0;34m\u001b[0m\u001b[0;34m\u001b[0m\u001b[0m\n\u001b[0;32m--> 854\u001b[0;31m         \u001b[0mestimator\u001b[0m \u001b[0;34m=\u001b[0m \u001b[0mestimator\u001b[0m\u001b[0;34m.\u001b[0m\u001b[0mset_params\u001b[0m\u001b[0;34m(\u001b[0m\u001b[0;34m**\u001b[0m\u001b[0mclone\u001b[0m\u001b[0;34m(\u001b[0m\u001b[0mparameters\u001b[0m\u001b[0;34m,\u001b[0m \u001b[0msafe\u001b[0m\u001b[0;34m=\u001b[0m\u001b[0;32mFalse\u001b[0m\u001b[0;34m)\u001b[0m\u001b[0;34m)\u001b[0m\u001b[0;34m\u001b[0m\u001b[0;34m\u001b[0m\u001b[0m\n\u001b[0m\u001b[1;32m    855\u001b[0m \u001b[0;34m\u001b[0m\u001b[0m\n\u001b[1;32m    856\u001b[0m     \u001b[0mstart_time\u001b[0m \u001b[0;34m=\u001b[0m \u001b[0mtime\u001b[0m\u001b[0;34m.\u001b[0m\u001b[0mtime\u001b[0m\u001b[0;34m(\u001b[0m\u001b[0;34m)\u001b[0m\u001b[0;34m\u001b[0m\u001b[0;34m\u001b[0m\u001b[0m\n",
            "\u001b[0;32m/usr/local/lib/python3.11/dist-packages/sklearn/pipeline.py\u001b[0m in \u001b[0;36mset_params\u001b[0;34m(self, **kwargs)\u001b[0m\n\u001b[1;32m    318\u001b[0m             \u001b[0mPipeline\u001b[0m \u001b[0;32mclass\u001b[0m \u001b[0minstance\u001b[0m\u001b[0;34m.\u001b[0m\u001b[0;34m\u001b[0m\u001b[0;34m\u001b[0m\u001b[0m\n\u001b[1;32m    319\u001b[0m         \"\"\"\n\u001b[0;32m--> 320\u001b[0;31m         \u001b[0mself\u001b[0m\u001b[0;34m.\u001b[0m\u001b[0m_set_params\u001b[0m\u001b[0;34m(\u001b[0m\u001b[0;34m\"steps\"\u001b[0m\u001b[0;34m,\u001b[0m \u001b[0;34m**\u001b[0m\u001b[0mkwargs\u001b[0m\u001b[0;34m)\u001b[0m\u001b[0;34m\u001b[0m\u001b[0;34m\u001b[0m\u001b[0m\n\u001b[0m\u001b[1;32m    321\u001b[0m         \u001b[0;32mreturn\u001b[0m \u001b[0mself\u001b[0m\u001b[0;34m\u001b[0m\u001b[0;34m\u001b[0m\u001b[0m\n\u001b[1;32m    322\u001b[0m \u001b[0;34m\u001b[0m\u001b[0m\n",
            "\u001b[0;32m/usr/local/lib/python3.11/dist-packages/sklearn/utils/metaestimators.py\u001b[0m in \u001b[0;36m_set_params\u001b[0;34m(self, attr, **params)\u001b[0m\n\u001b[1;32m     67\u001b[0m \u001b[0;34m\u001b[0m\u001b[0m\n\u001b[1;32m     68\u001b[0m         \u001b[0;31m# 3. Step parameters and other initialisation arguments\u001b[0m\u001b[0;34m\u001b[0m\u001b[0;34m\u001b[0m\u001b[0m\n\u001b[0;32m---> 69\u001b[0;31m         \u001b[0msuper\u001b[0m\u001b[0;34m(\u001b[0m\u001b[0;34m)\u001b[0m\u001b[0;34m.\u001b[0m\u001b[0mset_params\u001b[0m\u001b[0;34m(\u001b[0m\u001b[0;34m**\u001b[0m\u001b[0mparams\u001b[0m\u001b[0;34m)\u001b[0m\u001b[0;34m\u001b[0m\u001b[0;34m\u001b[0m\u001b[0m\n\u001b[0m\u001b[1;32m     70\u001b[0m         \u001b[0;32mreturn\u001b[0m \u001b[0mself\u001b[0m\u001b[0;34m\u001b[0m\u001b[0;34m\u001b[0m\u001b[0m\n\u001b[1;32m     71\u001b[0m \u001b[0;34m\u001b[0m\u001b[0m\n",
            "\u001b[0;32m/usr/local/lib/python3.11/dist-packages/sklearn/base.py\u001b[0m in \u001b[0;36mset_params\u001b[0;34m(self, **params)\u001b[0m\n\u001b[1;32m    281\u001b[0m             \u001b[0;32mif\u001b[0m \u001b[0mkey\u001b[0m \u001b[0;32mnot\u001b[0m \u001b[0;32min\u001b[0m \u001b[0mvalid_params\u001b[0m\u001b[0;34m:\u001b[0m\u001b[0;34m\u001b[0m\u001b[0;34m\u001b[0m\u001b[0m\n\u001b[1;32m    282\u001b[0m                 \u001b[0mlocal_valid_params\u001b[0m \u001b[0;34m=\u001b[0m \u001b[0mself\u001b[0m\u001b[0;34m.\u001b[0m\u001b[0m_get_param_names\u001b[0m\u001b[0;34m(\u001b[0m\u001b[0;34m)\u001b[0m\u001b[0;34m\u001b[0m\u001b[0;34m\u001b[0m\u001b[0m\n\u001b[0;32m--> 283\u001b[0;31m                 raise ValueError(\n\u001b[0m\u001b[1;32m    284\u001b[0m                     \u001b[0;34mf\"Invalid parameter {key!r} for estimator {self}. \"\u001b[0m\u001b[0;34m\u001b[0m\u001b[0;34m\u001b[0m\u001b[0m\n\u001b[1;32m    285\u001b[0m                     \u001b[0;34mf\"Valid parameters are: {local_valid_params!r}.\"\u001b[0m\u001b[0;34m\u001b[0m\u001b[0;34m\u001b[0m\u001b[0m\n",
            "\u001b[0;31mValueError\u001b[0m: Invalid parameter 'classification of n_estimators is' for estimator Pipeline(steps=[('balancing', SMOTE(random_state=101)),\n                ('classification',\n                 RandomForestClassifier(criterion='entropy', random_state=1))]). Valid parameters are: ['memory', 'steps', 'transform_input', 'verbose']."
          ]
        }
      ]
    },
    {
      "cell_type": "markdown",
      "source": [
        "####b. Use Method 1 with the best number of trees - as we have the Hyperparameter - n_estimators"
      ],
      "metadata": {
        "id": "5ZXZplosAvhw"
      }
    },
    {
      "cell_type": "code",
      "source": [
        "# Random Forest Classifier (method 1)\n",
        "#from sklearn.ensemble import RandomForestClassifier\n",
        "\n",
        "RF_classifier = RandomForestClassifier(n_estimators = 100, criterion = 'entropy', max_features = 'sqrt', random_state = 10)  # 1.building model classifier\n",
        "RF_classifier.fit(X_train, Y_train)  # 2.training\n",
        "Y_pred_RF = RF_classifier.predict(X_test)  # 3.testing\n",
        "\n",
        "# 4.evaluation          & Confusion Matrix\n",
        "Accuracy_RF = metrics.accuracy_score(Y_test, Y_pred_RF)      #Calculating Accuracy\n",
        "print('Random Forest Accuracy is: ', round(Accuracy_RF,4))\n",
        "\n",
        "conf_matrix_RF = metrics.confusion_matrix(Y_test, Y_pred_RF)   #Calculating Confusion Matrix\n",
        "print('Random Forest Confusion Matrix is: ')\n",
        "print(conf_matrix_RF)\n",
        "\n",
        "recall_RF = metrics.recall_score(Y_test, Y_pred_RF)         #Calculating Recall\n",
        "print('Random Forest Recall is: ', round(recall_RF,4))\n",
        "\n",
        "precision_RF = metrics.precision_score(Y_test, Y_pred_RF)    #Calculating Precision\n",
        "print('Random Forest Precision is: ', round(precision_RF,4))\n",
        "\n",
        "f1_RF = metrics.f1_score(Y_test, Y_pred_RF)               #Calculating f1\n",
        "print('Random Forest f1 is: ', round(f1_RF,4))\n",
        "\n",
        "#finding out the important features\n",
        "imp_features_RF = Series(RF_classifier.feature_importances_, index = list(X)).sort_values(ascending = False)\n",
        "print('')\n",
        "print(imp_features_RF)"
      ],
      "metadata": {
        "colab": {
          "base_uri": "https://localhost:8080/"
        },
        "id": "Q8_Lom5RBgmC",
        "outputId": "2b68345f-da10-4fa8-cae0-885658935b9b"
      },
      "execution_count": null,
      "outputs": [
        {
          "output_type": "stream",
          "name": "stdout",
          "text": [
            "Random Forest Accuracy is:  0.8605\n",
            "Random Forest Confusion Matrix is: \n",
            "[[ 19  29]\n",
            " [ 12 234]]\n",
            "Random Forest Recall is:  0.9512\n",
            "Random Forest Precision is:  0.8897\n",
            "Random Forest f1 is:  0.9194\n",
            "\n",
            "OverTime                             0.140478\n",
            "MonthlyIncome                        0.108444\n",
            "Age                                  0.097778\n",
            "EnvironmentSatisfaction              0.089860\n",
            "DistanceFromHome                     0.077378\n",
            "NumCompaniesWorked                   0.070032\n",
            "MaritalStatus_Single                 0.049197\n",
            "Gender                               0.046607\n",
            "MaritalStatus_Married                0.035391\n",
            "BusinessTravel_Travel_Frequently     0.028169\n",
            "MaritalStatus_Divorced               0.025896\n",
            "EducationField_Life Sciences         0.022930\n",
            "BusinessTravel_Travel_Rarely         0.021230\n",
            "EducationField_Medical               0.020960\n",
            "Department_Sales                     0.015845\n",
            "JobRole_Laboratory Technician        0.015050\n",
            "Department_Research & Development    0.014633\n",
            "JobRole_Sales Executive              0.013973\n",
            "BusinessTravel_Non-Travel            0.013518\n",
            "EducationField_Technical Degree      0.012663\n",
            "JobRole_Research Scientist           0.012451\n",
            "EducationField_Marketing             0.011268\n",
            "JobRole_Sales Representative         0.009830\n",
            "JobRole_Manufacturing Director       0.008820\n",
            "JobRole_Healthcare Representative    0.008023\n",
            "EducationField_Other                 0.007620\n",
            "JobRole_Manager                      0.005902\n",
            "JobRole_Human Resources              0.004878\n",
            "JobRole_Research Director            0.004464\n",
            "Department_Human Resources           0.003511\n",
            "EducationField_Human Resources       0.003200\n",
            "dtype: float64\n"
          ]
        }
      ]
    },
    {
      "cell_type": "markdown",
      "source": [
        "## 3. Support Vector Classifier (SVM)"
      ],
      "metadata": {
        "id": "VrYivbLYHVTK"
      }
    },
    {
      "cell_type": "markdown",
      "source": [
        "#### a. Using method 3 first - Pipeline - To get n_estimators (HYperparameter)"
      ],
      "metadata": {
        "id": "gj73wCmbHd3F"
      }
    },
    {
      "cell_type": "code",
      "source": [
        "#Using method 3 - pipeline & Gridsearch CV\n",
        "#building the classifier\n",
        "SV_classifier2 = Pipeline([('balancing', SMOTE(random_state = 101)), ('classification', SVC())])   #Building model/classifier\n",
        "kernels_c = {'classification__kernel': ['linear','poly','rbf','sigmoid'], 'classification__C': [.001,.01,.1,1,10,100]}\n",
        "\n",
        "grid_search1 = GridSearchCV(estimator=SV_classifier2, param_grid=kernels_c, scoring='recall', cv=5)   # training\n",
        "grid_search1.fit(X_scaled, Y)   # testing\n",
        "\n",
        "SV_best_parameters = grid_search1.best_params_\n",
        "print(SV_best_parameters)\n",
        "SV_best_result = grid_search1.best_score_\n",
        "print('Best Result is:', round(SV_best_result,4))\n"
      ],
      "metadata": {
        "colab": {
          "base_uri": "https://localhost:8080/"
        },
        "id": "vLusiWikHlSE",
        "outputId": "89257eac-87ff-48bc-829e-b3a780419a36"
      },
      "execution_count": null,
      "outputs": [
        {
          "output_type": "stream",
          "name": "stdout",
          "text": [
            "{'classification__C': 0.001, 'classification__kernel': 'poly'}\n",
            "Best Result is: 1.0\n"
          ]
        }
      ]
    },
    {
      "cell_type": "markdown",
      "source": [
        "#### b. Use Method 1 with the best number of trees - as we have the Hyperparameter - c & kernals"
      ],
      "metadata": {
        "id": "HrIghqFcNFrY"
      }
    },
    {
      "cell_type": "code",
      "source": [
        "#building SVM using method 1\n",
        "#from sklearn.svm import SVC - importing library\n",
        "SV_classifier = SVC(kernel = 'poly')        # 1.building model/classifier\n",
        "SV_classifier.fit(X_train, Y_train)       # 2.training\n",
        "Y_pred_SV = SV_classifier.predict(X_test)  # 3.testing\n",
        "\n",
        "# 4.evaluation          & Confusion Matrix\n",
        "Accuracy_SV = metrics.accuracy_score(Y_test, Y_pred_SV)      #Calculating Accuracy\n",
        "print('Support Vector Accuracy is: ', round(Accuracy_SV,4))\n",
        "\n",
        "conf_matrix_SV = metrics.confusion_matrix(Y_test, Y_pred_SV)   #Calculating Confusion Matrix\n",
        "print('Support Vector Confusion Matrix is: ')\n",
        "print(conf_matrix_SV)\n",
        "\n",
        "recall_SV = metrics.recall_score(Y_test, Y_pred_SV)         #Calculating Recall\n",
        "print('Support Vector Recall is: ', round(recall_SV,4))\n",
        "\n",
        "precision_SV = metrics.precision_score(Y_test, Y_pred_SV)    #Calculating Precision\n",
        "print('Support Vector Precision is: ', round(precision_SV,4))\n",
        "\n",
        "f1_SV = metrics.f1_score(Y_test, Y_pred_SV)               #Calculating f1\n",
        "print('Support Vector f1 is: ', round(f1_SV,4))\n",
        "\n",
        "#finding out the important features\n",
        "#imp_features_SV = Series(SV_classifier.feature_importances_, index = list(X)).sort_values(ascending = False)\n",
        "#print('')\n",
        "#print(imp_features_SV)"
      ],
      "metadata": {
        "colab": {
          "base_uri": "https://localhost:8080/"
        },
        "id": "lE5o3ebMNNM3",
        "outputId": "f86506f5-8695-4211-8780-801249c3f3d1"
      },
      "execution_count": null,
      "outputs": [
        {
          "output_type": "stream",
          "name": "stdout",
          "text": [
            "Support Vector Accuracy is:  0.7483\n",
            "Support Vector Confusion Matrix is: \n",
            "[[ 27  21]\n",
            " [ 53 193]]\n",
            "Support Vector Recall is:  0.7846\n",
            "Support Vector Precision is:  0.9019\n",
            "Support Vector f1 is:  0.8391\n"
          ]
        }
      ]
    }
  ]
}