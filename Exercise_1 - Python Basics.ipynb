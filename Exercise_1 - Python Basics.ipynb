{
  "nbformat": 4,
  "nbformat_minor": 0,
  "metadata": {
    "colab": {
      "provenance": [],
      "collapsed_sections": [
        "G2JU_dZRoxhf",
        "Ifk1JQQlpBD-",
        "Z1X67t4jp-rL",
        "a7Ci31_ar-Nn",
        "zl_HzIxUtWWv",
        "69QBAhBjuA4J",
        "Uw7_LluCKHuC",
        "2DimIeG2KaNn",
        "aRzDa6nUKdGG",
        "nM0piw20KgFy",
        "iu3CnjK-X1GZ",
        "B5V1WEporR_q",
        "5qw2O9_9s7s7",
        "JhuaGIzSArcI",
        "JU6l0Zr1UWqa",
        "2VV93G7NkJ6S",
        "FP4usC_rplVr",
        "NhTQHFMKpqWa",
        "2QsI0KYVpuIA",
        "w_j9lpegpxlZ"
      ]
    },
    "kernelspec": {
      "name": "python3",
      "display_name": "Python 3"
    },
    "language_info": {
      "name": "python"
    }
  },
  "cells": [
    {
      "cell_type": "markdown",
      "source": [
        "#Class Assignment - Exercise 1: Python Basics (C, D, E and F)\n",
        "   (File: Week 2 Exercises.pdf)\n",
        "###Submission by Aditya Kothapalli - 20062882 Group D"
      ],
      "metadata": {
        "id": "-Mgs7fs0n4Ud"
      }
    },
    {
      "cell_type": "markdown",
      "source": [
        "##1. Write a program that prints \"Hello, World!\" to the console."
      ],
      "metadata": {
        "id": "G2JU_dZRoxhf"
      }
    },
    {
      "cell_type": "code",
      "execution_count": null,
      "metadata": {
        "colab": {
          "base_uri": "https://localhost:8080/"
        },
        "id": "_xhyYUW7nMtQ",
        "outputId": "ab619c33-db74-4120-a519-65cb50f11ae4"
      },
      "outputs": [
        {
          "output_type": "stream",
          "name": "stdout",
          "text": [
            "Hello, World!\n"
          ]
        }
      ],
      "source": [
        "#use print function\n",
        "print(\"Hello, World!\")"
      ]
    },
    {
      "cell_type": "markdown",
      "source": [
        "##2. Calculate the area of a rectangle given its length and width"
      ],
      "metadata": {
        "id": "Ifk1JQQlpBD-"
      }
    },
    {
      "cell_type": "code",
      "source": [
        "#ask the user to enter the details\n",
        "length = float(input(\"Enter the length of rectangle..\"))\n",
        "width = float(input(\"Enter the width of rectangle..\"))\n",
        "\n",
        "#calculate area\n",
        "area = length * width\n",
        "\n",
        "#print the area\n",
        "print(\"The area of rectangle is\", area)"
      ],
      "metadata": {
        "colab": {
          "base_uri": "https://localhost:8080/"
        },
        "id": "v1Jly9-mpD_I",
        "outputId": "42c7a1d8-1e95-4118-90fb-26212d36f926"
      },
      "execution_count": null,
      "outputs": [
        {
          "output_type": "stream",
          "name": "stdout",
          "text": [
            "Enter the length of rectangle..2\n",
            "Enter the width of rectangle..3\n",
            "The area of rectangle is 6.0\n"
          ]
        }
      ]
    },
    {
      "cell_type": "markdown",
      "source": [
        "##3. Convert temperature from Celsius to Fahrenheit and vice versa"
      ],
      "metadata": {
        "id": "Z1X67t4jp-rL"
      }
    },
    {
      "cell_type": "code",
      "source": [
        "#1. Converting celsius to Fahrenheit\n",
        "#Input the temperature in celcius\n",
        "celsius = eval(input(\"Enter the temperature in Celcius\"))\n",
        "\n",
        "fahr = (celsius * (9 / 5)) + 32        #calculating Fahrenheit\n",
        "print(\"celsius\", celsius, \"converted to Fahrenheit is \", fahr)\n",
        "\n",
        "#2. Converting Farenheit to Celcius\n",
        "farenheit = eval(input(\"Enter the temperature in Fahrenheit\"))\n",
        "\n",
        "cel = (farenheit - 32) * (5 / 9)       #calculating Celcius\n",
        "print(\"Farenheit\", farenheit, \" converted to celsius is \", cel)"
      ],
      "metadata": {
        "colab": {
          "base_uri": "https://localhost:8080/"
        },
        "id": "VJjokjsrqB-q",
        "outputId": "5983fe5c-d261-4b4b-a5a3-fe6079e118ff"
      },
      "execution_count": null,
      "outputs": [
        {
          "output_type": "stream",
          "name": "stdout",
          "text": [
            "Enter the temperature in Celcius0\n",
            "celsius 0 converted to Fahrenheit is  32.0\n",
            "Enter the temperature in Fahrenheit32\n",
            "Farenheit 32  converted to celsius is  0.0\n"
          ]
        }
      ]
    },
    {
      "cell_type": "markdown",
      "source": [
        "##4. Create a list of numbers and print the sum of all the elements"
      ],
      "metadata": {
        "id": "a7Ci31_ar-Nn"
      }
    },
    {
      "cell_type": "code",
      "source": [
        "#take the numbers as input to form a list\n",
        "liist = eval(input(\"Enter 7 numbers to form a list, (use comma to enter)\"))\n",
        "liist\n",
        "\n",
        "#calculating sum\n",
        "sum = sum(liist)\n",
        "\n",
        "#outputting the sum\n",
        "print(\"The sum of all the elements in the list is\", sum)"
      ],
      "metadata": {
        "colab": {
          "base_uri": "https://localhost:8080/"
        },
        "id": "5-qjBmeAsB0_",
        "outputId": "3ffced1b-4dba-4c2e-8752-56cfbb99a429"
      },
      "execution_count": null,
      "outputs": [
        {
          "output_type": "stream",
          "name": "stdout",
          "text": [
            "Enter 7 numbers to form a list, (use comma to enter)1,1,1,1,1,1,1\n",
            "The sum of all the elements in the list is 7\n"
          ]
        }
      ]
    },
    {
      "cell_type": "markdown",
      "source": [
        "##5. Write a program to check if a given number is even or odd"
      ],
      "metadata": {
        "id": "zl_HzIxUtWWv"
      }
    },
    {
      "cell_type": "code",
      "source": [
        "#take input of the number\n",
        "odd_even = eval(input(\"Enter a number \"))\n",
        "odd_even\n",
        "\n",
        "#calculation - to check if number is odd or evev\n",
        "if odd_even % 2 ==0:\n",
        "  print(odd_even, \"is an even number\")\n",
        "else:\n",
        "  print(odd_even, \"is an odd number\")"
      ],
      "metadata": {
        "colab": {
          "base_uri": "https://localhost:8080/"
        },
        "id": "oiH8yUFYtbjq",
        "outputId": "4bd1e176-ff71-4ab2-dd2e-85705982558b"
      },
      "execution_count": null,
      "outputs": [
        {
          "output_type": "stream",
          "name": "stdout",
          "text": [
            "Enter a number 3\n",
            "3 is an odd number\n"
          ]
        }
      ]
    },
    {
      "cell_type": "markdown",
      "source": [
        "##6. Generate a random number between 1 and 100 and ask the user to guess it"
      ],
      "metadata": {
        "id": "69QBAhBjuA4J"
      }
    },
    {
      "cell_type": "code",
      "source": [
        "#Call the random library and import the random rage function\n",
        "from random import randrange\n",
        "\n",
        "#entering a random number - from the random library\n",
        "num = randrange(1, 100)\n",
        "print(num)\n",
        "\n",
        "#let the user guess the number\n",
        "user_num = eval(input(\"Guesss the random number\"))\n",
        "\n",
        "#use while loop till the usesr gets it right\n",
        "if user_num < 1 and user_num > 100:\n",
        "  print(\"Keep yopur gusses in between 1 nad 100\")\n",
        "\n",
        "else:\n",
        "  while num != user_num:\n",
        "    if user_num < num:\n",
        "      print(\"your guess is lower than the generated number\")\n",
        "      user_num = eval(input(\"Guesss the random number again..\"))\n",
        "    elif user_num > num:\n",
        "      print(\"your guess is higher than the generated number\")\n",
        "      user_num = eval(input(\"Guesss the random number again..\"))\n",
        "    else:\n",
        "      break\n",
        "\n",
        "print(\"You finally gussed the number right\")"
      ],
      "metadata": {
        "id": "3jGf12dPuFmU",
        "colab": {
          "base_uri": "https://localhost:8080/"
        },
        "outputId": "0addd78a-cd5c-43d6-c2b9-d201c80cc737"
      },
      "execution_count": 1,
      "outputs": [
        {
          "output_type": "stream",
          "name": "stdout",
          "text": [
            "77\n",
            "Guesss the random number773\n",
            "your guess is higher than the generated number\n",
            "Guesss the random number again..77\n",
            "You finally gussed the number right\n"
          ]
        }
      ]
    },
    {
      "cell_type": "markdown",
      "source": [
        "## 7. Write a function to check if a given string is a palindrome"
      ],
      "metadata": {
        "id": "Uw7_LluCKHuC"
      }
    },
    {
      "cell_type": "code",
      "source": [
        "#entering the input string\n",
        "\n",
        "palin = input(\"Enter a string/word/sentence to check if it is a palindrome or not..\")\n",
        "palin\n",
        "\n",
        "new_palin = \"\"\n",
        "\n",
        "#now use for loop to add it to an empty variable\n",
        "for i in palin:\n",
        "  new_palin = i + new_palin\n",
        "\n",
        "#now we match\n",
        "if palin == new_palin:\n",
        "  print(\"The entereded word/sentennce\", palin, \"is a palindrome\")\n",
        "else:\n",
        "  print(\"The entered word/sentence\", palin, \"is not a palindrome\")\n"
      ],
      "metadata": {
        "colab": {
          "base_uri": "https://localhost:8080/"
        },
        "id": "3vNjrwYzKLD0",
        "outputId": "b2e0b2fe-82f3-4d73-c53f-ca1fe599851d"
      },
      "execution_count": 20,
      "outputs": [
        {
          "output_type": "stream",
          "name": "stdout",
          "text": [
            "Enter a string/word/sentence to check if it is a palindrome or not..evilolive\n",
            "The entereded word/sentennce evilolive is a palindrome\n"
          ]
        }
      ]
    },
    {
      "cell_type": "code",
      "source": [
        "#2nd Method\n",
        "palindrome = eval(input(\"Enter a word/sentence that you think is a palindrome \"))\n",
        "str1 = [palindrome.lower()]\n",
        "str1\n",
        "\n",
        "for i in str1:\n",
        "  if i == i[::-1]:\n",
        "    print(\"The entered word/sentence\", palindrome, \"is a palindrome\")\n",
        "  else:\n",
        "    print(\"The entered word/sentence\", palindrome, \"is not a palindrome\")\n"
      ],
      "metadata": {
        "colab": {
          "base_uri": "https://localhost:8080/"
        },
        "id": "ZUC8T2FANeFQ",
        "outputId": "eaa29e31-3e63-4deb-eb4e-99148835c25f"
      },
      "execution_count": null,
      "outputs": [
        {
          "output_type": "stream",
          "name": "stdout",
          "text": [
            "Enter a word/sentence that you think is a palindrome \"CaveEvac\"\n",
            "The entered word/sentence CaveEvac is a palindrome\n"
          ]
        }
      ]
    },
    {
      "cell_type": "markdown",
      "source": [
        "##8. Calculate the factorial of a given number"
      ],
      "metadata": {
        "id": "2DimIeG2KaNn"
      }
    },
    {
      "cell_type": "code",
      "source": [
        "#take number from user\n",
        "num = eval(input(\"Enter the number you want to find the factorial of.. \"))\n",
        "\n",
        "#declare\n",
        "facto = 1\n",
        "\n",
        "#factorial can be for positive numbers. so check if the inpur number is negative, 0 or positive numbers\n",
        "if num < 0:\n",
        "  print(\"Incorrect! Factorial doesn't exist for a negative number\")\n",
        "\n",
        "elif num ==0:\n",
        "  print(\"Good one! The Factorial of '0' is 1\")\n",
        "\n",
        "else:    # now we calculate the factorial for positive numbers\n",
        "  for i in range(1, num + 1):\n",
        "    facto = facto * i\n",
        "  print(\"The factorial of entered number\", num, \"is\", facto)"
      ],
      "metadata": {
        "colab": {
          "base_uri": "https://localhost:8080/"
        },
        "id": "ADDMzgmPKcz4",
        "outputId": "df61810e-2a5d-46df-8ca5-145749b2f588"
      },
      "execution_count": null,
      "outputs": [
        {
          "output_type": "stream",
          "name": "stdout",
          "text": [
            "Enter the number you want to find the factorial of.. 5\n",
            "The factorial of entered number 5 is 120\n"
          ]
        }
      ]
    },
    {
      "cell_type": "markdown",
      "source": [
        "##9. Write a program to find the largest element in a list"
      ],
      "metadata": {
        "id": "aRzDa6nUKdGG"
      }
    },
    {
      "cell_type": "code",
      "source": [
        "#enter a list of numbers\n",
        "my_list = eval(input(\"Enter a series of numbers seperated by commas \"))\n",
        "#list1 = [1,45,5252,65,89,94,878,5466]\n",
        "print(my_list)\n",
        "\n",
        "#finding out the maximum number in a list\n",
        "max_no = max(my_list)\n",
        "print(\"The largest number in the entered list is \", max_no)"
      ],
      "metadata": {
        "colab": {
          "base_uri": "https://localhost:8080/"
        },
        "id": "-qgz-mBJKfju",
        "outputId": "78b920be-d1e4-4e49-eb05-96c353478c97"
      },
      "execution_count": 6,
      "outputs": [
        {
          "output_type": "stream",
          "name": "stdout",
          "text": [
            "Enter a series of numbers seperated by commas 56,85,45,65,100,201,1\n",
            "(56, 85, 45, 65, 100, 201, 1)\n",
            "The largest number in the entered list is  201\n"
          ]
        }
      ]
    },
    {
      "cell_type": "markdown",
      "source": [
        "##10. Create a simple calculator that can perform addition, subtraction, multiplication, and division"
      ],
      "metadata": {
        "id": "nM0piw20KgFy"
      }
    },
    {
      "cell_type": "code",
      "source": [
        "#Displaying Menu\n",
        "print(\"WElcome to Simple Calcs\")\n",
        "print(\"Enter 1 to perform Addition of 2 nos. \")\n",
        "print(\"ENter 2 to perform Subtraction of 2 nos. \")\n",
        "print(\"Enter 3 to perform Multiplication of 2 nos. \")\n",
        "print(\"Enter 4 to perform Division of 2 nos. \")\n",
        "print(\"\")\n",
        "\n",
        "#take the selection\n",
        "sel_option = eval(input(\"Enter your selection \"))\n",
        "\n",
        "if sel_option == 1:\n",
        "  a = eval(input(\"Enter your 1st no. \"))\n",
        "  b = eval(input(\"Enter your 2nd no. \"))\n",
        "  addn = a + b\n",
        "  print(\"The sum of\", a, \"and\", b, \"is\", addn)\n",
        "\n",
        "elif sel_option == 2:\n",
        "  a = eval(input(\"Enter your 1st no. \"))\n",
        "  b = eval(input(\"Enter your 2nd no. \"))\n",
        "  subr = a - b\n",
        "  print(\"The difference of\", a, \"and\", b, \"is\", subr)\n",
        "\n",
        "elif sel_option == 3:\n",
        "  a = eval(input(\"Enter your 1st no. \"))\n",
        "  b = eval(input(\"Enter your 2nd no. \"))\n",
        "  mult = a * b\n",
        "  print(\"The multiplication of\", a, \"and\", b, \"is\", mult)\n",
        "\n",
        "elif sel_option == 4:\n",
        "  a = eval(input(\"Enter your 1st no. \"))\n",
        "  b = eval(input(\"Enter your 2nd no. \"))\n",
        "  divn = a / b\n",
        "  print(\"The division of\", a, \"and\", b, \"is\", divn)\n",
        "\n",
        "else:\n",
        "  print(\"Incorrect Response! ENter a valid selection choice\")"
      ],
      "metadata": {
        "colab": {
          "base_uri": "https://localhost:8080/"
        },
        "id": "fdFFxFU2KklV",
        "outputId": "3fa3cc93-4c19-4344-9a29-c3c3c4a909e9"
      },
      "execution_count": null,
      "outputs": [
        {
          "output_type": "stream",
          "name": "stdout",
          "text": [
            "WElcome to Simple Calcs\n",
            "Enter 1 to perform Addition of 2 nos. \n",
            "ENter 2 to perform Subtraction of 2 nos. \n",
            "Enter 3 to perform Multiplication of 2 nos. \n",
            "Enter 4 to perform Division of 2 nos. \n",
            "\n",
            "Enter your selection 4\n",
            "Enter your 1st no. 0\n",
            "Enter your 2nd no. 98555\n",
            "The division of 0 and 98555 is 0.0\n"
          ]
        }
      ]
    },
    {
      "cell_type": "markdown",
      "source": [
        "##11. Write a function to find the square root of a number using Newton's method"
      ],
      "metadata": {
        "id": "iu3CnjK-X1GZ"
      }
    },
    {
      "cell_type": "code",
      "source": [
        "#Method 1 - doesnt seem to work for larger numbers due to low iterations\n",
        "\n",
        "if numb < 0:\n",
        "  print(\"Incorrect! Square root doesn't exist for a negative number\")\n",
        "\n",
        "elif numb == 0:\n",
        "  print(\"Good one! The Square root of '0' is 0\")\n",
        "\n",
        "elif numb == 1:\n",
        "  print(\"Good one! The Square root of '1' is 1\")\n",
        "\n",
        "elif numb > 1:\n",
        "  #initial guess\n",
        "  itr1 = (numb / 2)\n",
        "  itr2 = (itr1 + (numb / itr1)) / 2\n",
        "  itr3 = (itr2 + (numb / itr2)) / 2\n",
        "  if itr3 == itr2:\n",
        "    print(\"The Square root of entered number\", numb, \"is\", itr3)\n",
        "  else:\n",
        "    itr4 = (itr3 + (numb / itr3)) / 2\n",
        "    itr5 = (itr4 + (numb / itr4)) / 2\n",
        "    if itr5 == itr4:\n",
        "      print(\"The Square root of entered number\", numb, \"is\", itr5)\n",
        "    else:\n",
        "      print(\"The Square root of entered number\", numb, \"is\", itr5)\n",
        "\n",
        "else:\n",
        "  print(\"Incorrect Response! ENter a valid selection choice\")\n",
        "\n",
        "#It seems this wont work for larger numbers"
      ],
      "metadata": {
        "id": "UVt9eLLTX5I6",
        "colab": {
          "base_uri": "https://localhost:8080/"
        },
        "outputId": "cefad374-c161-4c2e-8408-a229978c8fae"
      },
      "execution_count": null,
      "outputs": [
        {
          "output_type": "stream",
          "name": "stdout",
          "text": [
            "Enter the number you want to find the Square root of.. 15625\n",
            "The Square root of entered number 15625 is 498.8608313114986\n"
          ]
        }
      ]
    },
    {
      "cell_type": "code",
      "source": [
        "#2nd method\n",
        "numb = eval(input(\"Enter the number you want to find the Square root of.. \"))\n",
        "numb\n",
        "\n",
        "#defining the newton_sqrt function\n",
        "def newton_sqrt(x, itr = 10):\n",
        "  if x < 0:\n",
        "    print(\"Square root - not defined for negative numbers\")\n",
        "  if x == 0:\n",
        "    print(\"Good One! The Square root of '0' is 0\")\n",
        "  if x == 1:\n",
        "    print(\"Good One! The Square root of '1' is 1\")\n",
        "  value = x / 2   #(base guess for iterations)\n",
        "  for i in range(itr):\n",
        "    value = (value + (x / value)) / 2\n",
        "  return value\n",
        "\n",
        "sqr_root = newton_sqrt(numb)\n",
        "print(\"The Square root of\", numb, \" via Newtons method \", \"is\", sqr_root)"
      ],
      "metadata": {
        "colab": {
          "base_uri": "https://localhost:8080/"
        },
        "id": "07efez5sol5F",
        "outputId": "2c0f6f4e-4426-4490-a3d6-ea72dfdc935d"
      },
      "execution_count": 19,
      "outputs": [
        {
          "output_type": "stream",
          "name": "stdout",
          "text": [
            "Enter the number you want to find the Square root of.. 15625\n",
            "The Square root of 15625  via Newtons method  is 125.00000000000146\n"
          ]
        }
      ]
    },
    {
      "cell_type": "markdown",
      "source": [
        "##12. Reverse a given list without using the reverse() method"
      ],
      "metadata": {
        "id": "B5V1WEporR_q"
      }
    },
    {
      "cell_type": "code",
      "source": [
        "#Method 1\n",
        "\n",
        "given_list = [\"one\", \"two\", \"three\", \"four\"]\n",
        "print(given_list)\n",
        "print(\"\")\n",
        "\n",
        "#print the list in reverse\n",
        "print(given_list[-1], given_list[-2], given_list[-3], given_list[-4])"
      ],
      "metadata": {
        "colab": {
          "base_uri": "https://localhost:8080/"
        },
        "id": "B4tbSELDrXK2",
        "outputId": "6591bd48-3ee9-49e9-f9ef-80070ce9d7f7"
      },
      "execution_count": 28,
      "outputs": [
        {
          "output_type": "stream",
          "name": "stdout",
          "text": [
            "['one', 'two', 'three', 'four']\n",
            "\n",
            "four three two one\n"
          ]
        }
      ]
    },
    {
      "cell_type": "code",
      "source": [
        "#Method 2\n",
        "\n",
        "given_list = eval(input( \"Enter the characters for a list.. (use '' for text): \"))\n",
        "print(\"the entered list is \", given_list)\n",
        "print(\"\")\n",
        "\n",
        "#create an empty list to input the revered numbers\n",
        "rev_list = []\n",
        "\n",
        "for i in range(len(given_list)):\n",
        "  rev_list.append(given_list[-1])\n",
        "\n",
        "print(\"The Reversed list is \", rev_list)"
      ],
      "metadata": {
        "colab": {
          "base_uri": "https://localhost:8080/"
        },
        "id": "NZuQjRbwcsfG",
        "outputId": "ece22d81-edbb-41ec-f44d-95a5aac25b9f"
      },
      "execution_count": 18,
      "outputs": [
        {
          "output_type": "stream",
          "name": "stdout",
          "text": [
            "Enter the characters for a list.. (use '' for text): \"one\", \"two\", \"three\", \"four\"\n",
            "the entered list is  ('one', 'two', 'three', 'four')\n",
            "\n",
            "The Reversed list is  ['four', 'four', 'four', 'four']\n"
          ]
        }
      ]
    },
    {
      "cell_type": "markdown",
      "source": [
        "##13. Write a program to find all the prime numbers between 1 and 100."
      ],
      "metadata": {
        "id": "5qw2O9_9s7s7"
      }
    },
    {
      "cell_type": "code",
      "source": [
        "print(\"Finding the prime numbers between 1 and 100\")\n",
        "\n",
        "prime_nos = []\n",
        "for i in range(2, 101):      #just found that if we set the range from 1:101, it wont work - it need to start from 2 the smallest prime no.\n",
        "  for j in range(2, 101):\n",
        "    if i % j == 0:\n",
        "      break    #break the iteration once condition is fulfilled\n",
        "  if i == j:\n",
        "    prime_nos.append(i)\n",
        "\n",
        "print(\"The prime numbers between 1 and 100 are\", prime_nos)"
      ],
      "metadata": {
        "colab": {
          "base_uri": "https://localhost:8080/"
        },
        "id": "nUDfb_oJs-v-",
        "outputId": "76fa9f12-ab24-4f72-d2da-3e44a61d2e21"
      },
      "execution_count": 13,
      "outputs": [
        {
          "output_type": "stream",
          "name": "stdout",
          "text": [
            "Finding the prime numbers between 1 and 100\n",
            "The prime numbers between 1 and 100 are [2, 3, 5, 7, 11, 13, 17, 19, 23, 29, 31, 37, 41, 43, 47, 53, 59, 61, 67, 71, 73, 79, 83, 89, 97]\n"
          ]
        }
      ]
    },
    {
      "cell_type": "markdown",
      "source": [
        "#14. Calculate the Fibonacci sequence up to a given number."
      ],
      "metadata": {
        "id": "JhuaGIzSArcI"
      }
    },
    {
      "cell_type": "code",
      "source": [
        "#fibonacci series - next number is calcuated by the 2 numbers before it\n",
        "\n",
        "num_fb = int(input(\"Enter the last number of the finbonacci series to run \"))\n",
        "\n",
        "a = 0\n",
        "b = 1    #base numbers or start from 0\n",
        "\n",
        "#for i in range(0, num_fb):\n",
        "  #c = a + b\n",
        "  #a = b\n",
        "  #b = c\n",
        "  #a,b = a+1, a+b\n",
        "  #print(c)\n",
        "while a <= num_fb:\n",
        "  print(a)\n",
        "  a, b = b, a+b"
      ],
      "metadata": {
        "colab": {
          "base_uri": "https://localhost:8080/"
        },
        "id": "HC7vIFFyJ6-O",
        "outputId": "d1b2308d-6649-4afe-83bb-5dca86992ed6"
      },
      "execution_count": null,
      "outputs": [
        {
          "output_type": "stream",
          "name": "stdout",
          "text": [
            "Enter the last number of the finbonacci series to run 5\n",
            "0\n",
            "1\n",
            "1\n",
            "2\n",
            "3\n",
            "5\n"
          ]
        }
      ]
    },
    {
      "cell_type": "markdown",
      "source": [
        "#15. Write a function to count the number of vowels in a given string"
      ],
      "metadata": {
        "id": "JU6l0Zr1UWqa"
      }
    },
    {
      "cell_type": "code",
      "source": [
        "strng = eval(input(\"Enter a sentence to count the number of vowels in it - use quotes to enter text \"))\n",
        "strng\n",
        "\n",
        "count = 0\n",
        "#counting\n",
        "for i in strng:\n",
        "  if i == 'a' or i == 'e' or i == 'i' or i=='o' or i=='u' or i=='A' or i=='E' or i=='I' or i=='O' or i=='U':\n",
        "    #count = 0\n",
        "    count = count + 1\n",
        "    #break\n",
        "if count == 0:\n",
        "  print(\"There are no vowels in this sentence\")\n",
        "else:\n",
        "  print(\"Total vowels are\", str(count))"
      ],
      "metadata": {
        "colab": {
          "base_uri": "https://localhost:8080/"
        },
        "id": "kMvJaB5hVi4m",
        "outputId": "7142a75e-128c-462e-97a0-2388a7426522"
      },
      "execution_count": null,
      "outputs": [
        {
          "output_type": "stream",
          "name": "stdout",
          "text": [
            "Enter a sentence to count the number of vowels in it - use quotes to enter text \"AEIOu aeIIoU Pythion\"\n",
            "Total vowels are 13\n"
          ]
        }
      ]
    },
    {
      "cell_type": "markdown",
      "source": [
        "#16. Check if a given year is a leap year."
      ],
      "metadata": {
        "id": "2VV93G7NkJ6S"
      }
    },
    {
      "cell_type": "code",
      "source": [
        "year = eval(input(\"Enter a year that you can check if its leap year or not \"))\n",
        "year\n",
        "\n",
        "if year % 4 == 0 and year % 400 == 0 or year % 100 != 0:\n",
        "  print(\"Entered year is a leap year\")\n",
        "else:\n",
        "  print(\"Entered year is NOT a leap year\")\n"
      ],
      "metadata": {
        "colab": {
          "base_uri": "https://localhost:8080/"
        },
        "id": "TCmcv0ZMkXyt",
        "outputId": "eef85afa-f598-4418-904c-b58c948dcb8d"
      },
      "execution_count": null,
      "outputs": [
        {
          "output_type": "stream",
          "name": "stdout",
          "text": [
            "Enter a year that you can check if its leap year or not 2400\n",
            "Entered year is a leap year\n"
          ]
        }
      ]
    },
    {
      "cell_type": "markdown",
      "source": [
        "#17. Remove duplicates from a list without using sets"
      ],
      "metadata": {
        "id": "FP4usC_rplVr"
      }
    },
    {
      "cell_type": "code",
      "source": [
        "#Duplicates function from entered list   REDO\n",
        "\n",
        "list1 = eval(input(\"Enter a list of numbers - can be repeated as well \"))\n",
        "print(list1)\n",
        "\n",
        "#creating a function\n",
        "def remove_duplicates(dupl_list):\n",
        "  fresh_list = []\n",
        "\n",
        "  for i in dupl_list:\n",
        "    if i not in fresh_list:\n",
        "      fresh_list.append(i)    #add the unique numbers to the enpty list\n",
        "  return fresh_list\n",
        "\n",
        "print(remove_duplicates(list1))\n"
      ],
      "metadata": {
        "id": "5-RtDLQ3pqA0",
        "colab": {
          "base_uri": "https://localhost:8080/"
        },
        "outputId": "cb967ad6-02a2-4a87-ea0e-ab13b4b051fc"
      },
      "execution_count": null,
      "outputs": [
        {
          "output_type": "stream",
          "name": "stdout",
          "text": [
            "Enter a list of numbers - can be repeated as well 10,101,10,10,10,10,5,5,5,656,454,8484,848,45\n",
            "(10, 101, 10, 10, 10, 10, 5, 5, 5, 656, 454, 8484, 848, 45)\n",
            "[10, 101, 5, 656, 454, 8484, 848, 45]\n"
          ]
        }
      ]
    },
    {
      "cell_type": "markdown",
      "source": [
        "#18. Write a program to sort a list of numbers using bubble sort."
      ],
      "metadata": {
        "id": "NhTQHFMKpqWa"
      }
    },
    {
      "cell_type": "code",
      "source": [
        "#bubble sort\n",
        "\n",
        "def bubble_sort(num_list):\n",
        "  n = len(num_list)\n",
        "  for i in range(n):\n",
        "    for j in range(0, n - 1 - i):\n",
        "      if num_list[j] > num_list[j+1]:\n",
        "        num_list[j], num_list[j+1] = num_list[j+1], num_list[j]\n",
        "      #return num_list\n",
        "\n",
        "num_list = [614, 13, 225, 2, 58, 110, 900]\n",
        "print(num_list)\n",
        "\n",
        "bubble_sort(num_list)\n",
        "print(\"the sorted list using bubble sort is\", num_list)"
      ],
      "metadata": {
        "id": "AMNHBuoEptoA",
        "colab": {
          "base_uri": "https://localhost:8080/"
        },
        "outputId": "b5f58027-a34b-4611-efaa-6e67640cc3d5"
      },
      "execution_count": 12,
      "outputs": [
        {
          "output_type": "stream",
          "name": "stdout",
          "text": [
            "[614, 13, 225, 2, 58, 110, 900]\n",
            "the sorted list using bubble sort is [2, 13, 58, 110, 225, 614, 900]\n"
          ]
        }
      ]
    },
    {
      "cell_type": "markdown",
      "source": [
        "#19. Create a dictionary of names and ages, and print the name of the oldest person"
      ],
      "metadata": {
        "id": "2QsI0KYVpuIA"
      }
    },
    {
      "cell_type": "code",
      "source": [
        "#creating a dictionary\n",
        "human = {\n",
        "    \"Lenovo\": 54,\n",
        "    \"Acer\": 45,\n",
        "    \"HP\": 62,\n",
        "    \"Apple\": 12,\n",
        "    \"Samsung\": 15\n",
        "}\n",
        "\n",
        "#finding the key and the oldest\n",
        "oldest = max(human, key = human.get)\n",
        "print(\"The oldest person is\", oldest)"
      ],
      "metadata": {
        "id": "A89LHUjFpxEE",
        "colab": {
          "base_uri": "https://localhost:8080/"
        },
        "outputId": "507a1d63-8d91-45ac-ea61-df3ad22b6136"
      },
      "execution_count": 4,
      "outputs": [
        {
          "output_type": "stream",
          "name": "stdout",
          "text": [
            "The oldest person is HP\n"
          ]
        }
      ]
    },
    {
      "cell_type": "markdown",
      "source": [
        "#20. Write a program to find the least common multiple (LCM) of two numbers"
      ],
      "metadata": {
        "id": "w_j9lpegpxlZ"
      }
    },
    {
      "cell_type": "code",
      "source": [
        "import math\n",
        "\n",
        "# defining a fucntion for LCM by using GCD\n",
        "def cal_LCM(x, y):\n",
        "  lcm = abs(x * y) / math.gcd(x, y)\n",
        "  return lcm\n",
        "\n",
        "print(\"Calculation to find the LCM of 2 numbers \")\n",
        "one = eval(input(\"Enter the 1st number \"))\n",
        "two = eval(input(\"Enter the 2nd number \"))\n",
        "\n",
        "print(\"the lcm of\", one , \"and\", two, \"is\", cal_LCM(one, two))"
      ],
      "metadata": {
        "id": "2lPHyYhpNdFf",
        "colab": {
          "base_uri": "https://localhost:8080/"
        },
        "outputId": "f630a4ba-d048-4fb5-dd8d-49c9c231846b"
      },
      "execution_count": null,
      "outputs": [
        {
          "output_type": "stream",
          "name": "stdout",
          "text": [
            "Calculation to find the LCM of 2 numbers \n",
            "Enter the 1st number 9\n",
            "Enter the 2nd number 18\n",
            "the lcm of 9 and 18 is 18.0\n"
          ]
        }
      ]
    }
  ]
}