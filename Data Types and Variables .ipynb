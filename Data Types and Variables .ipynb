{
  "nbformat": 4,
  "nbformat_minor": 0,
  "metadata": {
    "colab": {
      "provenance": []
    },
    "kernelspec": {
      "name": "python3",
      "display_name": "Python 3"
    },
    "language_info": {
      "name": "python"
    }
  },
  "cells": [
    {
      "cell_type": "markdown",
      "source": [
        "#Week 3 Exercise: Data Types and Variables"
      ],
      "metadata": {
        "id": "21fVy3hAdGAL"
      }
    },
    {
      "cell_type": "markdown",
      "source": [
        "##1. Create a variable age and assign it the value 25."
      ],
      "metadata": {
        "id": "LKNYKASyeRBI"
      }
    },
    {
      "cell_type": "code",
      "execution_count": 1,
      "metadata": {
        "colab": {
          "base_uri": "https://localhost:8080/"
        },
        "id": "qH6BaItnb_q-",
        "outputId": "1ff4748e-5b9b-4126-b2da-bb6827a5e47e"
      },
      "outputs": [
        {
          "output_type": "stream",
          "name": "stdout",
          "text": [
            "25\n"
          ]
        }
      ],
      "source": [
        "age = 25\n",
        "print(age)"
      ]
    },
    {
      "cell_type": "markdown",
      "source": [
        "##2. Create a variable name and assign it a string containing your name."
      ],
      "metadata": {
        "id": "lCK1zKOCmKYu"
      }
    },
    {
      "cell_type": "code",
      "source": [
        "name = \"Addy\"\n",
        "print(name)"
      ],
      "metadata": {
        "colab": {
          "base_uri": "https://localhost:8080/"
        },
        "id": "bc-hl14ImOac",
        "outputId": "ef85b1ef-3156-4dc7-bb96-25daffaa980f"
      },
      "execution_count": 2,
      "outputs": [
        {
          "output_type": "stream",
          "name": "stdout",
          "text": [
            "Addy\n"
          ]
        }
      ]
    },
    {
      "cell_type": "markdown",
      "source": [
        "##3. Print the type of the variable age."
      ],
      "metadata": {
        "id": "f5d3Lmofmthn"
      }
    },
    {
      "cell_type": "code",
      "source": [
        "age = 32\n",
        "type(age)\n",
        "print(type(age))"
      ],
      "metadata": {
        "colab": {
          "base_uri": "https://localhost:8080/"
        },
        "id": "tYrkNJkTmzFl",
        "outputId": "b410c394-1c8f-43db-b6c2-fa93ae7e3a8e"
      },
      "execution_count": 5,
      "outputs": [
        {
          "output_type": "stream",
          "name": "stdout",
          "text": [
            "<class 'int'>\n"
          ]
        }
      ]
    },
    {
      "cell_type": "markdown",
      "source": [
        "##4. Convert the variable age to a string and store it in a new variable age_str."
      ],
      "metadata": {
        "id": "taAT36-2nK_c"
      }
    },
    {
      "cell_type": "code",
      "source": [
        "age = (25,54,62,32)\n",
        "age_str = str(age)\n",
        "print(age_str)"
      ],
      "metadata": {
        "colab": {
          "base_uri": "https://localhost:8080/"
        },
        "id": "ZK1I8lvYnOmN",
        "outputId": "fa7fa84c-d0ec-4c50-bc13-2c0c7ebac703"
      },
      "execution_count": 6,
      "outputs": [
        {
          "output_type": "stream",
          "name": "stdout",
          "text": [
            "(25, 54, 62, 32)\n"
          ]
        }
      ]
    },
    {
      "cell_type": "markdown",
      "source": [
        "##5. Create a variable height and assign it the value 175.5 (floating-point number)."
      ],
      "metadata": {
        "id": "bl0OzBPbn2ke"
      }
    },
    {
      "cell_type": "code",
      "source": [
        "height = float(175.5)\n",
        "print(height)"
      ],
      "metadata": {
        "colab": {
          "base_uri": "https://localhost:8080/"
        },
        "id": "7KzWtcinn6JF",
        "outputId": "5193b3ae-ae39-4105-c4dd-355619b4af15"
      },
      "execution_count": 8,
      "outputs": [
        {
          "output_type": "stream",
          "name": "stdout",
          "text": [
            "175.5\n"
          ]
        }
      ]
    },
    {
      "cell_type": "markdown",
      "source": [
        "##6. Print the type of the variable height."
      ],
      "metadata": {
        "id": "-uO2YCxQoDjO"
      }
    },
    {
      "cell_type": "code",
      "source": [
        "height = float(175.5)\n",
        "print(type(height))"
      ],
      "metadata": {
        "colab": {
          "base_uri": "https://localhost:8080/"
        },
        "id": "6_hexe4QoVyb",
        "outputId": "fe1f5154-0c2d-4316-b521-84ab25261234"
      },
      "execution_count": 9,
      "outputs": [
        {
          "output_type": "stream",
          "name": "stdout",
          "text": [
            "<class 'float'>\n"
          ]
        }
      ]
    },
    {
      "cell_type": "markdown",
      "source": [
        "##7. Create a variable is_student and assign it a boolean value representing whether you are a student or not."
      ],
      "metadata": {
        "id": "z2VbQBt6oaV5"
      }
    },
    {
      "cell_type": "code",
      "source": [
        "is_student = input(\"If you are a student, enter True or False \")\n",
        "is_student = is_student.lower()\n",
        "\n",
        "if is_student == \"true\":\n",
        "  print(\"You are a student\")\n",
        "else:\n",
        "  print(\"You are not a student\")"
      ],
      "metadata": {
        "colab": {
          "base_uri": "https://localhost:8080/"
        },
        "id": "P1Kz57m1oeR1",
        "outputId": "aab75456-a2be-491c-c1d7-3e02ba877d2f"
      },
      "execution_count": 21,
      "outputs": [
        {
          "output_type": "stream",
          "name": "stdout",
          "text": [
            "If you are a student, enter True or False truE\n",
            "You are a student\n"
          ]
        }
      ]
    },
    {
      "cell_type": "markdown",
      "source": [
        "##8. Print the type of the variable is_student."
      ],
      "metadata": {
        "id": "ncnLRBlZrTmS"
      }
    },
    {
      "cell_type": "code",
      "source": [
        "type(is_student)\n",
        "print(type(is_student))"
      ],
      "metadata": {
        "colab": {
          "base_uri": "https://localhost:8080/"
        },
        "id": "AP-mUxQcriWS",
        "outputId": "aa77dbd0-4014-43ba-bfc2-de3c005bf8e7"
      },
      "execution_count": 22,
      "outputs": [
        {
          "output_type": "stream",
          "name": "stdout",
          "text": [
            "<class 'str'>\n"
          ]
        }
      ]
    },
    {
      "cell_type": "markdown",
      "source": [
        "##9. Create a list colors containing the names of three colors.  &&  \n",
        "##10. Print the second element of the list colors"
      ],
      "metadata": {
        "id": "8_H7Q6VWrori"
      }
    },
    {
      "cell_type": "code",
      "source": [
        "colors = [\"White\", \"Black\", \"Grey\"]\n",
        "print(colors[1])"
      ],
      "metadata": {
        "colab": {
          "base_uri": "https://localhost:8080/"
        },
        "id": "0-1Mo1Syrre8",
        "outputId": "7789274d-0e2c-4717-a89f-0aa122e13bed"
      },
      "execution_count": 23,
      "outputs": [
        {
          "output_type": "stream",
          "name": "stdout",
          "text": [
            "Black\n"
          ]
        }
      ]
    },
    {
      "cell_type": "markdown",
      "source": [
        "## 11. Create a tuple dimensions containing the length, width, and height of a box.   &\n",
        "## 12. Print the third element of the tuple dimensions."
      ],
      "metadata": {
        "id": "k8lfL_itsU51"
      }
    },
    {
      "cell_type": "code",
      "source": [
        "box = [15, 25, 65]\n",
        "\n",
        "print(box[2])"
      ],
      "metadata": {
        "colab": {
          "base_uri": "https://localhost:8080/"
        },
        "id": "nXjdDcr2tdAh",
        "outputId": "7c8fbffc-76dc-44bb-c700-440fb144d010"
      },
      "execution_count": 27,
      "outputs": [
        {
          "output_type": "stream",
          "name": "stdout",
          "text": [
            "65\n"
          ]
        }
      ]
    },
    {
      "cell_type": "markdown",
      "source": [
        "##13. Create a dictionary person with keys \"name\", \"age\", and \"city\", and assign appropriate values.\n",
        "##14. Print the value associated with the key \"age\" in the dictionary person"
      ],
      "metadata": {
        "id": "BSFAZsD6vzcF"
      }
    },
    {
      "cell_type": "code",
      "source": [
        "person = {\n",
        "    \"Name\" : (\"Eenie\", \"Mynie\", \"Minie\", \"Mo\"),\n",
        "    \"Age\" : (14, 15, 16 , 17),\n",
        "    \"City\" : (\"leeds\", \"Dublin\", \"Cork\", \"Waterford\")\n",
        "}\n",
        "\n",
        "print(person[\"Age\"])"
      ],
      "metadata": {
        "colab": {
          "base_uri": "https://localhost:8080/"
        },
        "id": "U9jaXp_0v7Fg",
        "outputId": "9b684a1e-fb39-490f-bb5a-40272afd8bb1"
      },
      "execution_count": 33,
      "outputs": [
        {
          "output_type": "stream",
          "name": "stdout",
          "text": [
            "(14, 15, 16, 17)\n"
          ]
        }
      ]
    },
    {
      "cell_type": "markdown",
      "source": [
        "##15. Create a set unique_numbers containing three unique integers.\n",
        "##16. Add a new integer to the set unique_numbers."
      ],
      "metadata": {
        "id": "9q8Kzv1m4zUX"
      }
    },
    {
      "cell_type": "code",
      "source": [
        "unique_numbers = [1, 2, 3]\n",
        "unique_numbers.append(4)\n",
        "print(unique_numbers)"
      ],
      "metadata": {
        "colab": {
          "base_uri": "https://localhost:8080/"
        },
        "id": "fNCXGRVX5Xua",
        "outputId": "1cb2f062-bed6-4a22-aa59-bcd21a74e109"
      },
      "execution_count": 35,
      "outputs": [
        {
          "output_type": "stream",
          "name": "stdout",
          "text": [
            "[1, 2, 3, 4]\n"
          ]
        }
      ]
    },
    {
      "cell_type": "markdown",
      "source": [
        "##17. Create a variable x and assign it the value 10.\n",
        "##18. Increment the value of x by 5.\n",
        "##19. Create a variable y and assign it the value of x squared.\n",
        "##20. Swap the values of variables x and y."
      ],
      "metadata": {
        "id": "wEkhBX2t9rr6"
      }
    },
    {
      "cell_type": "code",
      "source": [
        "x = 10\n",
        "x = x + 5\n",
        "\n",
        "y = x ** 2\n",
        "x, y = y, x\n",
        "\n",
        "print(x,y)"
      ],
      "metadata": {
        "colab": {
          "base_uri": "https://localhost:8080/"
        },
        "id": "cZ9oQ1WK93a5",
        "outputId": "24456a72-a200-4fef-c2ff-bd9b916f702f"
      },
      "execution_count": 36,
      "outputs": [
        {
          "output_type": "stream",
          "name": "stdout",
          "text": [
            "225 15\n"
          ]
        }
      ]
    }
  ]
}