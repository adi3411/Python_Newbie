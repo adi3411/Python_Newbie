{
  "nbformat": 4,
  "nbformat_minor": 0,
  "metadata": {
    "colab": {
      "provenance": [],
      "collapsed_sections": [
        "zIP9VRnJry0O",
        "yOKXKt8VtBuh",
        "lONadbqnuGMr",
        "oE8hUmrJu5x9",
        "02oYLj7RvrO0",
        "Xu7M2FlNw2sJ",
        "heXwgxGGxDMZ",
        "im6JXYZexizV",
        "jqh8LPIzLoXP",
        "ldZnVbqmJLRA",
        "rmBKzfevLsax",
        "Ey1VSDK9MgTX",
        "ZFps7BU5NAf7",
        "KqDbP5crNXsV",
        "pzgWQMjBRFav",
        "yylh3FNhRh8s",
        "QU5Vsc8WSvuM",
        "ArcbEE3yTVMy",
        "T2jTB77rZaPw",
        "rB1XLQvybfqV"
      ]
    },
    "kernelspec": {
      "name": "python3",
      "display_name": "Python 3"
    },
    "language_info": {
      "name": "python"
    }
  },
  "cells": [
    {
      "cell_type": "markdown",
      "source": [
        "# Exercise 3 - Control Flow Statements and Functions\n",
        "#####Instruction: Debug and compile the following on a collab file.\n",
        "####Submitted by Aditya Kothapalli (Addy) - 20062882"
      ],
      "metadata": {
        "id": "nSvQ9BLCrsKT"
      }
    },
    {
      "cell_type": "markdown",
      "source": [
        "###1. Write a program to check if a given number is positive, negative, or zero.\n"
      ],
      "metadata": {
        "id": "zIP9VRnJry0O"
      }
    },
    {
      "cell_type": "code",
      "execution_count": 1,
      "metadata": {
        "colab": {
          "base_uri": "https://localhost:8080/"
        },
        "id": "3ab3AD8IqXWD",
        "outputId": "eda2faea-da7e-4368-d10d-77e12c6f72f5"
      },
      "outputs": [
        {
          "output_type": "stream",
          "name": "stdout",
          "text": [
            "Enter a number: 656\n",
            "The entered number is 656\n",
            "the number is Positive\n"
          ]
        }
      ],
      "source": [
        "num = eval(input(\"Enter a number: \"))\n",
        "print(\"The entered number is\", num)\n",
        "\n",
        "if num > 0:\n",
        "  print(\"the number is Positive\")\n",
        "elif num < 0:\n",
        "  print(\"the number is Negative\")\n",
        "else:\n",
        "  print(\"the number is Zero\")"
      ]
    },
    {
      "cell_type": "markdown",
      "source": [
        "###2. Write a program to find the maximum of two numbers."
      ],
      "metadata": {
        "id": "yOKXKt8VtBuh"
      }
    },
    {
      "cell_type": "code",
      "source": [
        "def maximum(a, b):\n",
        "  if a > b:\n",
        "    return a\n",
        "  else:\n",
        "    return b\n",
        "\n",
        "\n",
        "num1 = int(input(\"Enter first number: \"))\n",
        "num2 = int(input(\"Enter second number: \"))\n",
        "\n",
        "print(\"The Maximum of 2 nos:\", maximum(num1, num2))"
      ],
      "metadata": {
        "colab": {
          "base_uri": "https://localhost:8080/"
        },
        "id": "ClGKjQzvtHDh",
        "outputId": "8b471177-822b-4909-a888-1f123e16ca7b"
      },
      "execution_count": 2,
      "outputs": [
        {
          "output_type": "stream",
          "name": "stdout",
          "text": [
            "Enter first number: 1\n",
            "Enter second number: 5\n",
            "The Maximum of 2 nos: 5\n"
          ]
        }
      ]
    },
    {
      "cell_type": "markdown",
      "source": [
        "###Write a program to check if a given year is a leap year"
      ],
      "metadata": {
        "id": "lONadbqnuGMr"
      }
    },
    {
      "cell_type": "code",
      "source": [
        "def is_leap_year(year):\n",
        "  return (year % 4 == 0 and year % 100 != 0) or (year % 400 == 0)\n",
        "\n",
        "\n",
        "year = int(input(\"Enter a year: \"))\n",
        "\n",
        "if is_leap_year(year):\n",
        "  print(\"THe entered years is a Leap year\")\n",
        "else:\n",
        "  print(\"THe entered years is NOT a leap year\")"
      ],
      "metadata": {
        "colab": {
          "base_uri": "https://localhost:8080/"
        },
        "id": "GpoA16lduJN8",
        "outputId": "5978b5bf-237d-4d48-99cc-d42b6dbe3388"
      },
      "execution_count": 3,
      "outputs": [
        {
          "output_type": "stream",
          "name": "stdout",
          "text": [
            "Enter a year: 2400\n",
            "THe entered years is a Leap year\n"
          ]
        }
      ]
    },
    {
      "cell_type": "markdown",
      "source": [
        "###4. Write a program to print the Fibonacci sequence up to a given number of terms"
      ],
      "metadata": {
        "id": "oE8hUmrJu5x9"
      }
    },
    {
      "cell_type": "code",
      "source": [
        "def fibonacci(n):\n",
        "  a, b = 0, 1\n",
        "  fib = [a, b]\n",
        "  for _ in range(n - 2):\n",
        "    a, b = b, a + b\n",
        "    fib.append(b)\n",
        "  return fib\n",
        "\n",
        "terms = int(input(\"Enter the number of terms: \"))\n",
        "print(\"Fibonacci sequence:\", fibonacci(terms))"
      ],
      "metadata": {
        "colab": {
          "base_uri": "https://localhost:8080/"
        },
        "id": "mZ_iamsqu-xW",
        "outputId": "2dd6e790-123e-428c-e1e9-206b43478b40"
      },
      "execution_count": 4,
      "outputs": [
        {
          "output_type": "stream",
          "name": "stdout",
          "text": [
            "Enter the number of terms: 6\n",
            "Fibonacci sequence: [0, 1, 1, 2, 3, 5]\n"
          ]
        }
      ]
    },
    {
      "cell_type": "markdown",
      "source": [
        "###5. Write a program to find the factorial of a given number."
      ],
      "metadata": {
        "id": "02oYLj7RvrO0"
      }
    },
    {
      "cell_type": "code",
      "source": [
        "def factorial(n):\n",
        "  if n == 0:\n",
        "    return 1\n",
        "  else:\n",
        "    return n * factorial(n - 1)\n",
        "\n",
        "num = int(input(\"Enter a number: \"))\n",
        "\n",
        "print(\"The Factorial on entered no. is :\", factorial(num))"
      ],
      "metadata": {
        "colab": {
          "base_uri": "https://localhost:8080/"
        },
        "id": "jIBuE1bevvJy",
        "outputId": "a12fad52-b172-4f7e-a02a-ed5e5c71013c"
      },
      "execution_count": 5,
      "outputs": [
        {
          "output_type": "stream",
          "name": "stdout",
          "text": [
            "Enter a number: 5\n",
            "The Factorial on entered no. is : 120\n"
          ]
        }
      ]
    },
    {
      "cell_type": "markdown",
      "source": [
        "###6. Write a program to calculate the sum of all numbers from 1 to 100."
      ],
      "metadata": {
        "id": "Xu7M2FlNw2sJ"
      }
    },
    {
      "cell_type": "code",
      "source": [
        "total = sum(range(1, 101))\n",
        "print(\"Sum of numbers from 1 to 100:\", total)"
      ],
      "metadata": {
        "colab": {
          "base_uri": "https://localhost:8080/"
        },
        "id": "Cuu4YgHkw7SF",
        "outputId": "38af4dd7-f1a0-4299-a8a7-c7cca3cbc066"
      },
      "execution_count": 6,
      "outputs": [
        {
          "output_type": "stream",
          "name": "stdout",
          "text": [
            "Sum of numbers from 1 to 100: 5050\n"
          ]
        }
      ]
    },
    {
      "cell_type": "markdown",
      "source": [
        "###7. Write a program to print the multiplication table of a given number."
      ],
      "metadata": {
        "id": "heXwgxGGxDMZ"
      }
    },
    {
      "cell_type": "code",
      "source": [
        "num = int(input(\"Enter a number: \"))\n",
        "\n",
        "for i in range(1, 11):\n",
        "  print(num, \"x\", i, \"=\", num * i)"
      ],
      "metadata": {
        "colab": {
          "base_uri": "https://localhost:8080/"
        },
        "id": "CA5ftMlNxGBA",
        "outputId": "46afbefe-739b-4513-a244-8f64616b28c2"
      },
      "execution_count": 7,
      "outputs": [
        {
          "output_type": "stream",
          "name": "stdout",
          "text": [
            "Enter a number: 5\n",
            "5 x 1 = 5\n",
            "5 x 2 = 10\n",
            "5 x 3 = 15\n",
            "5 x 4 = 20\n",
            "5 x 5 = 25\n",
            "5 x 6 = 30\n",
            "5 x 7 = 35\n",
            "5 x 8 = 40\n",
            "5 x 9 = 45\n",
            "5 x 10 = 50\n"
          ]
        }
      ]
    },
    {
      "cell_type": "markdown",
      "source": [
        "###8. Write a program to find the prime numbers between 1 and 100"
      ],
      "metadata": {
        "id": "im6JXYZexizV"
      }
    },
    {
      "cell_type": "code",
      "source": [
        "primes = []\n",
        "for num in range(2, 101):\n",
        "  for i in range(2, 101):\n",
        "    if num % i == 0:\n",
        "      break\n",
        "  if num == i:\n",
        "    primes.append(num)\n",
        "\n",
        "print(\"Prime numbers between 1 and 100:\", primes)"
      ],
      "metadata": {
        "colab": {
          "base_uri": "https://localhost:8080/"
        },
        "id": "9k7VwLh7xlTH",
        "outputId": "3369b6cd-8b96-4bb7-8df2-d4a7c5cd9041"
      },
      "execution_count": 8,
      "outputs": [
        {
          "output_type": "stream",
          "name": "stdout",
          "text": [
            "Prime numbers between 1 and 100: [2, 3, 5, 7, 11, 13, 17, 19, 23, 29, 31, 37, 41, 43, 47, 53, 59, 61, 67, 71, 73, 79, 83, 89, 97]\n"
          ]
        }
      ]
    },
    {
      "cell_type": "markdown",
      "source": [
        "###9. Write a program to calculate the average of a list of numbers."
      ],
      "metadata": {
        "id": "jqh8LPIzLoXP"
      }
    },
    {
      "cell_type": "code",
      "source": [
        "def average(nums):\n",
        "  return sum(nums) / len(nums)\n",
        "\n",
        "numbers = [int(x) for x in input(\"Enter numbers separated by space: \").split()]\n",
        "\n",
        "print(\"Average:\", average(numbers))"
      ],
      "metadata": {
        "colab": {
          "base_uri": "https://localhost:8080/"
        },
        "id": "gTXGw3bMHrDN",
        "outputId": "792b839b-0ff4-4df3-aea2-82419fae242e"
      },
      "execution_count": 9,
      "outputs": [
        {
          "output_type": "stream",
          "name": "stdout",
          "text": [
            "Enter numbers separated by space: 6 5 9 7 2 3\n",
            "Average: 5.333333333333333\n"
          ]
        }
      ]
    },
    {
      "cell_type": "markdown",
      "source": [
        "###10. Write a program to count the number of vowels in each string"
      ],
      "metadata": {
        "id": "ldZnVbqmJLRA"
      }
    },
    {
      "cell_type": "code",
      "source": [
        "def count_vowels(string):\n",
        "  vowels = \"aeiouAEIOU\"\n",
        "  count = 0\n",
        "  for char in string:\n",
        "    if char in vowels:\n",
        "      count += 1\n",
        "  return count\n",
        "\n",
        "text = input(\"Enter a string/sentence: \")\n",
        "\n",
        "print(\"Number of vowels in th string is/are:\", count_vowels(text))"
      ],
      "metadata": {
        "colab": {
          "base_uri": "https://localhost:8080/"
        },
        "id": "bhTRE1mHJfga",
        "outputId": "1ab9a4af-0d20-4332-d98b-c1a534faa618"
      },
      "execution_count": 10,
      "outputs": [
        {
          "output_type": "stream",
          "name": "stdout",
          "text": [
            "Enter a string/sentence: \"Python is New to me\"\n",
            "Number of vowels in th string is/are: 5\n"
          ]
        }
      ]
    },
    {
      "cell_type": "markdown",
      "source": [
        "###11. Write a function to calculate the area of a circle given its radius."
      ],
      "metadata": {
        "id": "rmBKzfevLsax"
      }
    },
    {
      "cell_type": "code",
      "source": [
        "import math\n",
        "\n",
        "def area_of_circle(radius):\n",
        "  return math.pi * radius ** 2\n",
        "\n",
        "r = float(input(\"Enter the radius of the circle: \"))\n",
        "\n",
        "print(\"Area of the circle:\", area_of_circle(r))"
      ],
      "metadata": {
        "colab": {
          "base_uri": "https://localhost:8080/"
        },
        "id": "CXUtmSaELxFj",
        "outputId": "1341d0c8-6d37-40a2-d773-c18dca3fa6d3"
      },
      "execution_count": 11,
      "outputs": [
        {
          "output_type": "stream",
          "name": "stdout",
          "text": [
            "Enter the radius of the circle: 6.5\n",
            "Area of the circle: 132.73228961416876\n"
          ]
        }
      ]
    },
    {
      "cell_type": "markdown",
      "source": [
        "###12. Write a function to check if a given number is even or odd"
      ],
      "metadata": {
        "id": "Ey1VSDK9MgTX"
      }
    },
    {
      "cell_type": "code",
      "source": [
        "def is_even(number):\n",
        "  num = number % 2 == 0\n",
        "  return num\n",
        "\n",
        "num = eval(input(\"Enter a number: \"))\n",
        "if is_even(num):\n",
        "  print(\"The number is Even\")\n",
        "else:\n",
        "  print(\"The number is Odd\")"
      ],
      "metadata": {
        "colab": {
          "base_uri": "https://localhost:8080/"
        },
        "id": "WdH5kD3iMjOG",
        "outputId": "554dca2a-e564-4eed-dd21-4525e58b4fca"
      },
      "execution_count": 12,
      "outputs": [
        {
          "output_type": "stream",
          "name": "stdout",
          "text": [
            "Enter a number: 95884\n",
            "The number is Even\n"
          ]
        }
      ]
    },
    {
      "cell_type": "markdown",
      "source": [
        "###13. Write a function to reverse a given string"
      ],
      "metadata": {
        "id": "ZFps7BU5NAf7"
      }
    },
    {
      "cell_type": "code",
      "source": [
        "def reverse_string(string):\n",
        "  return string[::-1]\n",
        "\n",
        "text = input(\"Enter a string: \")\n",
        "\n",
        "print(\"Reversed string:\", reverse_string(text))"
      ],
      "metadata": {
        "colab": {
          "base_uri": "https://localhost:8080/"
        },
        "id": "Vq5CXlnwNEKY",
        "outputId": "e871993c-3926-4ccb-ce78-80d57f154e42"
      },
      "execution_count": 13,
      "outputs": [
        {
          "output_type": "stream",
          "name": "stdout",
          "text": [
            "Enter a string: \"Hello Python\"\n",
            "Reversed string: \"nohtyP olleH\"\n"
          ]
        }
      ]
    },
    {
      "cell_type": "markdown",
      "source": [
        "###14. Write a function to check if a given string is a palindrome"
      ],
      "metadata": {
        "id": "KqDbP5crNXsV"
      }
    },
    {
      "cell_type": "code",
      "source": [
        "def is_palindrome(string):\n",
        "  return string == string[::-1]\n",
        "\n",
        "text = input(\"Enter a string: \")\n",
        "if is_palindrome(text):\n",
        "  print(\"The entered string is A Palindrome\")\n",
        "else:\n",
        "  print(\"The entered string is NOT a palindrome\")"
      ],
      "metadata": {
        "colab": {
          "base_uri": "https://localhost:8080/"
        },
        "id": "vOYGRYLgNa3q",
        "outputId": "45cd9f3f-0403-4d8f-b997-52f3db82b8e7"
      },
      "execution_count": 14,
      "outputs": [
        {
          "output_type": "stream",
          "name": "stdout",
          "text": [
            "Enter a string: racecar\n",
            "The entered string is A Palindrome\n"
          ]
        }
      ]
    },
    {
      "cell_type": "markdown",
      "source": [
        "###15. Write a function to calculate the square root of a given number."
      ],
      "metadata": {
        "id": "pzgWQMjBRFav"
      }
    },
    {
      "cell_type": "code",
      "source": [
        "def square_root(number):\n",
        "  return number ** 0.5\n",
        "\n",
        "num = float(input(\"Enter a number: \"))\n",
        "\n",
        "print(\"Square root:\", square_root(num))"
      ],
      "metadata": {
        "colab": {
          "base_uri": "https://localhost:8080/"
        },
        "id": "keRMJo1tRIbp",
        "outputId": "dd85f8bf-606d-4df6-ae57-aaa61130a262"
      },
      "execution_count": 23,
      "outputs": [
        {
          "output_type": "stream",
          "name": "stdout",
          "text": [
            "Enter a number: 15625\n",
            "Square root: 125.0\n"
          ]
        }
      ]
    },
    {
      "cell_type": "markdown",
      "source": [
        "###16. Write a function to find the greatest common divisor (GCD) of two numbers"
      ],
      "metadata": {
        "id": "yylh3FNhRh8s"
      }
    },
    {
      "cell_type": "code",
      "source": [
        "def gcd(a, b):\n",
        "  while b:\n",
        "    a, b = b, a % b\n",
        "  return a\n",
        "\n",
        "num1 = int(input(\"Enter first number: \"))\n",
        "print(\"\")\n",
        "num2 = int(input(\"Enter second number: \"))\n",
        "print(\"\")\n",
        "print(\"GCD of two nos is: \", gcd(num1, num2))"
      ],
      "metadata": {
        "colab": {
          "base_uri": "https://localhost:8080/"
        },
        "id": "o1j98N68Rlv0",
        "outputId": "2183fb6d-22d5-4808-eab3-331dac7c3888"
      },
      "execution_count": 16,
      "outputs": [
        {
          "output_type": "stream",
          "name": "stdout",
          "text": [
            "Enter first number: 9\n",
            "\n",
            "Enter second number: 54\n",
            "\n",
            "GCD of two nos is:  9\n"
          ]
        }
      ]
    },
    {
      "cell_type": "markdown",
      "source": [
        "###17. Write a function to check if a given number is a perfect square"
      ],
      "metadata": {
        "id": "QU5Vsc8WSvuM"
      }
    },
    {
      "cell_type": "code",
      "source": [
        "import math\n",
        "\n",
        "def is_perfect_square(number):\n",
        "  return math.isqrt(number) ** 2 == number\n",
        "\n",
        "num = int(input(\"Enter a number: \"))\n",
        "\n",
        "if is_perfect_square(num):\n",
        "  print(\"Entered number is a Perfect square\")\n",
        "else:\n",
        "  print(\"Entered number is Not a perfect square\")"
      ],
      "metadata": {
        "colab": {
          "base_uri": "https://localhost:8080/"
        },
        "id": "s6dlK8HjSzty",
        "outputId": "aa912ca3-28ea-42dc-cda1-727c3640a283"
      },
      "execution_count": 22,
      "outputs": [
        {
          "output_type": "stream",
          "name": "stdout",
          "text": [
            "Enter a number: 15625\n",
            "Entered number is a Perfect square\n"
          ]
        }
      ]
    },
    {
      "cell_type": "markdown",
      "source": [
        "###18. Write a function to generate a list of prime numbers up to a given limit."
      ],
      "metadata": {
        "id": "ArcbEE3yTVMy"
      }
    },
    {
      "cell_type": "code",
      "source": [
        "def generate_primes(limit):\n",
        "  primes = []\n",
        "  for num in range(2, limit ++ 1):\n",
        "    for i in range(2, num):\n",
        "      if (num % i) == 0:\n",
        "        break\n",
        "      else:\n",
        "        primes.append(num)\n",
        "  return primes\n",
        "\n",
        "limit = int(input(\"Enter a limit to stop the seq. of geenration: \"))\n",
        "print(\"\")\n",
        "\n",
        "print(\"Prime numbers up to\", limit, \"are : \", primes) #generate_primes(limit))"
      ],
      "metadata": {
        "colab": {
          "base_uri": "https://localhost:8080/"
        },
        "id": "-iWsHLz7TYv7",
        "outputId": "2d035e2d-96f1-426f-e553-ace8c83c4b24"
      },
      "execution_count": 29,
      "outputs": [
        {
          "output_type": "stream",
          "name": "stdout",
          "text": [
            "Enter a limit to stop the seq. of geenration: 100\n",
            "\n",
            "Prime numbers up to 100 are :  [2, 3, 5, 7, 11, 13, 17, 19, 23, 29, 31, 37, 41, 43, 47, 53, 59, 61, 67, 71, 73, 79, 83, 89, 97]\n"
          ]
        }
      ]
    },
    {
      "cell_type": "markdown",
      "source": [
        "###19. Write a function to check if a given string is an anagram of another string."
      ],
      "metadata": {
        "id": "T2jTB77rZaPw"
      }
    },
    {
      "cell_type": "code",
      "source": [
        "def is_anagram(str1, str2):\n",
        "  return sorted(str1) == sorted(str2)\n",
        "\n",
        "text = input(\"Enter first string: \")\n",
        "print(\"\")\n",
        "text2 = input(\"Enter second string: \")\n",
        "print(\"\")\n",
        "\n",
        "if is_anagram(text, text2):\n",
        "  print(\"Entred strings are an Anagram\")\n",
        "else:\n",
        "  print(\"Entred strings are NOT an anagram\")"
      ],
      "metadata": {
        "colab": {
          "base_uri": "https://localhost:8080/"
        },
        "id": "9uAr7e6pZb8c",
        "outputId": "6f06825c-fc99-4c4f-abe5-5c5f96b2e761"
      },
      "execution_count": 19,
      "outputs": [
        {
          "output_type": "stream",
          "name": "stdout",
          "text": [
            "Enter first string: saly\n",
            "\n",
            "Enter second string: lays\n",
            "\n",
            "Entred strings are an Anagram\n"
          ]
        }
      ]
    },
    {
      "cell_type": "markdown",
      "source": [
        "###20. Write a function to calculate the factorial of a given number using recursion"
      ],
      "metadata": {
        "id": "rB1XLQvybfqV"
      }
    },
    {
      "cell_type": "code",
      "source": [
        "def factorial(n):\n",
        "  if n == 0:\n",
        "    return 1\n",
        "  else:\n",
        "    return n * factorial(n - 1)\n",
        "\n",
        "num = int(input(\"Enter a number: \"))\n",
        "print(\"\")\n",
        "print(\"Factorial:\", factorial(num))"
      ],
      "metadata": {
        "colab": {
          "base_uri": "https://localhost:8080/"
        },
        "id": "tw0wXOcTbiyA",
        "outputId": "dcdd2575-e9b1-4c7b-b241-6eeb179b57c6"
      },
      "execution_count": 20,
      "outputs": [
        {
          "output_type": "stream",
          "name": "stdout",
          "text": [
            "Enter a number: 5\n",
            "\n",
            "Factorial: 120\n"
          ]
        }
      ]
    }
  ]
}